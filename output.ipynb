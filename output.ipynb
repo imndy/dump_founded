{
 "cells": [
  {
   "cell_type": "code",
   "execution_count": 1,
   "id": "c26c4ba0",
   "metadata": {
    "execution": {
     "iopub.execute_input": "2025-06-11T06:49:40.395426Z",
     "iopub.status.busy": "2025-06-11T06:49:40.395146Z",
     "iopub.status.idle": "2025-06-11T06:49:44.192722Z",
     "shell.execute_reply": "2025-06-11T06:49:44.191954Z"
    },
    "papermill": {
     "duration": 3.802679,
     "end_time": "2025-06-11T06:49:44.194274",
     "exception": false,
     "start_time": "2025-06-11T06:49:40.391595",
     "status": "completed"
    },
    "tags": []
   },
   "outputs": [],
   "source": [
    "# ─── Block 1: SETUP + TOP-100 USDT-M FUTURES (last 21 days) ────────────────\n",
    "from datetime import datetime, timezone, timedelta\n",
    "import ccxt, pandas as pd, time\n",
    "from bisect import bisect_right\n",
    "\n",
    "# 0) FIXED WINDOW: days ago → now\n",
    "spans    = 9\n",
    "now_utc  = datetime.now(timezone.utc)\n",
    "start    = now_utc - timedelta(days=spans)\n",
    "end      = now_utc\n",
    "\n",
    "# print(f\"→ Window: {start.isoformat()} → {end.isoformat()}\")\n",
    "\n",
    "# to ms, bump exact-midnight end forward by 1 ms\n",
    "start_ms = int(start.timestamp() * 1000)\n",
    "end_ms   = int(  end.timestamp() * 1000)\n",
    "if end_ms % 86_400_000 == 0:\n",
    "    end_ms += 86_400_000 - 1\n",
    "\n",
    "# 1) CCXT FUTURES CLIENT\n",
    "binance = ccxt.binance({\n",
    "    'options':        {'defaultType': 'future'},\n",
    "    'enableRateLimit': True,\n",
    "})\n",
    "\n",
    "\n",
    "# 2) TRY to GET 24 h STATS\n",
    "try:\n",
    "    n=100\n",
    "    raw24 = binance.fapiPublicGetTicker24hr()    # GET /fapi/v1/ticker/24hr\n",
    "    usdt  = [t for t in raw24 if t['symbol'].endswith('USDT')]\n",
    "    topn  = sorted(usdt, key=lambda x: float(x['quoteVolume']), reverse=True)[:n]\n",
    "    symbols = [ t['symbol'][:-4] + '/USDT' for t in topn ]\n",
    "    # print(f\"Top {len(symbols)} USDT-M futures by 24 h volume:\")\n",
    "    # print(symbols)\n",
    "except Exception as e:\n",
    "    # print(f\"⚠️  Cannot fetch futures tickers ({e}), falling back to symbols.txt\")\n",
    "    # Load a pre-prepared file of one-per-line SYMBOL/USDT\n",
    "    with open('symbols.txt') as f:\n",
    "        symbols = [l.strip() for l in f if l.strip()]\n",
    "\n"
   ]
  },
  {
   "cell_type": "code",
   "execution_count": 2,
   "id": "53e745d8",
   "metadata": {
    "execution": {
     "iopub.execute_input": "2025-06-11T06:49:44.198926Z",
     "iopub.status.busy": "2025-06-11T06:49:44.198633Z",
     "iopub.status.idle": "2025-06-11T06:49:44.250735Z",
     "shell.execute_reply": "2025-06-11T06:49:44.250006Z"
    },
    "papermill": {
     "duration": 0.055743,
     "end_time": "2025-06-11T06:49:44.251888",
     "exception": false,
     "start_time": "2025-06-11T06:49:44.196145",
     "status": "completed"
    },
    "tags": []
   },
   "outputs": [],
   "source": [
    "# ─── Block 2: fetch_ohlcv_until() + scan_symbol() ───────────────────────────\n",
    "import numpy as np\n",
    "from ta.trend      import MACD, ADXIndicator, EMAIndicator\n",
    "from ta.volatility import AverageTrueRange\n",
    "from ta.momentum   import RSIIndicator\n",
    "import ta  # for MFI\n",
    "\n",
    "def fetch_ohlcv_until(symbol, timeframe, start_ms, end_ms, limit=1500):\n",
    "    all_bars, cursor = [], start_ms\n",
    "    # delay = binance.rateLimit/1000\n",
    "    while True:\n",
    "        batch = binance.fetch_ohlcv(symbol, timeframe, since=cursor, limit=limit)\n",
    "        if not batch: break\n",
    "        last = batch[-1][0]\n",
    "        all_bars += batch\n",
    "        # print(f\"  • fetched {len(batch)} bars → {pd.to_datetime(last,unit='ms')} UTC\")\n",
    "        if last >= end_ms:\n",
    "            all_bars = [b for b in all_bars if b[0] <= end_ms]\n",
    "            # print(\"    ▶ reach end_ms, stopping.\")\n",
    "            break\n",
    "        cursor = last+1\n",
    "        # time.sleep(delay)\n",
    "        if len(batch)<limit: break\n",
    "\n",
    "    df = pd.DataFrame(all_bars, columns=['ts','open','high','low','close','volume'])\n",
    "    df['timestamp'] = pd.to_datetime(df['ts'],unit='ms')\n",
    "    df.set_index('timestamp',inplace=True)\n",
    "    df.drop('ts',axis=1,inplace=True)\n",
    "    df = df[(df.index>=pd.to_datetime(start_ms,unit='ms'))\n",
    "          & (df.index<=pd.to_datetime(end_ms,  unit='ms'))]\n",
    "    df.index = df.index.tz_localize('UTC').tz_convert('Asia/Bangkok')\n",
    "    return df\n",
    "\n",
    "def safe_round(value, ndigits=0):\n",
    "    if isinstance(value, (int, float)):\n",
    "        return round(value, ndigits)\n",
    "    return value  # Leave it unchanged if not a number\n",
    "\n",
    "def scan_symbol(symbol, start_ms, end_ms):\n",
    "    print(f\"▶ scanning {symbol}\")\n",
    "    # 1) fetch 15m + warmup 4h\n",
    "    df15 = fetch_ohlcv_until(symbol, '15m', start_ms, end_ms)\n",
    "    MS4H = 4*60*60*1000\n",
    "    warm = start_ms - (14*10 + 5)*MS4H\n",
    "    raw4 = fetch_ohlcv_until(symbol, '4h', warm, end_ms)\n",
    "    # slice raw4 → exact window\n",
    "    sdt = pd.to_datetime(start_ms,unit='ms',utc=True).tz_convert('Asia/Bangkok')\n",
    "    edt = pd.to_datetime(end_ms,  unit='ms',utc=True).tz_convert('Asia/Bangkok')\n",
    "    df4  = raw4.loc[sdt:edt]\n",
    "\n",
    "    # 2) merge 4h → 15m\n",
    "    # ─── 4h → 15m ATR & ADX (guard against too-short history + catch errors) ──────────────────\n",
    "    WINDOW = 14\n",
    "\n",
    "    if len(raw4) < WINDOW + 1:\n",
    "        # Not enough 4h bars to compute a 14-period indicator\n",
    "        atr4 = pd.Series(0.0, index=df15.index)\n",
    "        adx4 = pd.Series(0.0, index=df15.index)\n",
    "    else:\n",
    "        # ATR(14)\n",
    "        atr4 = AverageTrueRange(\n",
    "            high= raw4['high'],\n",
    "            low=  raw4['low'],\n",
    "            close=raw4['close'],\n",
    "            window=WINDOW\n",
    "        ).average_true_range()\n",
    "\n",
    "        # ADX(14) with exception handling\n",
    "        try:\n",
    "            adx_series = ADXIndicator(\n",
    "                high= raw4['high'],\n",
    "                low=  raw4['low'],\n",
    "                close=raw4['close'],\n",
    "                window=WINDOW,\n",
    "                fillna=False\n",
    "            ).adx()\n",
    "            adx4 = adx_series.fillna(0)\n",
    "        except Exception as e:\n",
    "            # print(f\"    ⚠️ ADX calculation failed for {symbol}: {e}. Zero-filling it.\")\n",
    "            adx4 = pd.Series(0.0, index=raw4.index)\n",
    "\n",
    "    # forward-fill onto the 15m frame\n",
    "    df15['ATR_4h'] = atr4.reindex(df15.index, method='ffill')\n",
    "    df15['ADX_4h'] = adx4.reindex(df15.index, method='ffill')\n",
    "\n",
    "    # 3) 15m indicators\n",
    "    macd = MACD(df15['close'])\n",
    "    df15['MACD_line']   = macd.macd()\n",
    "    df15['MACD_signal'] = macd.macd_signal()\n",
    "    df15['MACD_hist']   = macd.macd_diff()\n",
    "    df15['MFI']   = ta.volume.money_flow_index(df15['high'],df15['low'],df15['close'],df15['volume'],14)\n",
    "    df15['EMA50'] = EMAIndicator(df15['close'],50).ema_indicator()\n",
    "    df15['EMA100']= EMAIndicator(df15['close'],100).ema_indicator()\n",
    "    df15['RSI']   = RSIIndicator(df15['close'],14).rsi()\n",
    "    df15['ATR']   = AverageTrueRange(df15['high'],df15['low'],df15['close'],14).average_true_range()\n",
    "    df15['ATR30']= df15['ATR'].rolling(30).mean()\n",
    "    df15['ADX']  = ADXIndicator(df15['high'],df15['low'],df15['close'],14).adx()\n",
    "    df15.dropna(inplace=True)\n",
    "\n",
    "    # 4) pivots\n",
    "    pw = 14\n",
    "\n",
    "    # 1) Trailing pivot highs: current high is the max of itself + previous pw bars\n",
    "    df15['is_pivot_high'] = (\n",
    "        df15['high']\n",
    "        .rolling(window=pw+1)                # trailing window of size pw+1\n",
    "        .apply(lambda x: np.argmax(x) == pw, raw=True)\n",
    "    )\n",
    "\n",
    "    # 2) Trailing pivot lows: current low is the min of itself + previous pw bars\n",
    "    df15['is_pivot_low']  = (\n",
    "        df15['low']\n",
    "        .rolling(window=pw+1)\n",
    "        .apply(lambda x: np.argmin(x) == pw, raw=True)\n",
    "    )\n",
    "\n",
    "    # 3) Extract the times & values for your R:R logic\n",
    "    highs = df15.loc[df15['is_pivot_high'] == 1, 'high']\n",
    "    lows  = df15.loc[df15['is_pivot_low']  == 1, 'low']\n",
    "\n",
    "    HT, HV = highs.index.tolist(), highs.values.tolist()\n",
    "    LT, LV = lows.index.tolist(),  lows.values.tolist()\n",
    "\n",
    "    # 5) backtest exactly as before\n",
    "    results, active = [], False\n",
    "    lev, cap, base_rr, rr_min, th = 10, 25, 1.5, 0.15, 25\n",
    "    risk_th = 0.75\n",
    "    fee = 0.0005\n",
    "    for i in range(1,len(df15)):\n",
    "        r, p = df15.iloc[i], df15.iloc[i-1]\n",
    "        now  = r.name\n",
    "\n",
    "        if not active:\n",
    "            # trend filter\n",
    "            if r['ADX_4h']<th: continue\n",
    "            else:\n",
    "                # LONG\n",
    "                if ( r['high']>=r['EMA50'] and r['EMA50']>r['EMA100']\n",
    "                and p['MFI']<=55        and r['MFI']>=55\n",
    "                and r['MACD_hist']>0):\n",
    "                    entry, entry_t, side = r['close'], now, 'long'\n",
    "\n",
    "                    risk = r['ATR_4h']*risk_th\n",
    "                    stop = entry-risk\n",
    "                    idx  = bisect_right(HT,entry_t)\n",
    "                    cand = HV[idx] if idx<len(HV) else entry+base_rr*risk\n",
    "                    tp   = cand if cand>entry else entry+base_rr*risk\n",
    "                    rr   = (tp-entry)/risk\n",
    "                \n",
    "                    # ❌ only go active if R:R > RR_MIN\n",
    "                    if rr <= rr_min:\n",
    "                        continue\n",
    "\n",
    "                    active = True\n",
    "\n",
    "                # SHORT\n",
    "                elif ( r['low']<=r['EMA50'] and r['EMA50']<r['EMA100']\n",
    "                    and p['MFI']>=45 and r['MFI']<=45\n",
    "                    and r['MACD_hist']<0):\n",
    "                    entry, entry_t, side = r['close'], now, 'short'\n",
    "\n",
    "                    risk = r['ATR_4h']*risk_th\n",
    "                    stop = entry+risk\n",
    "                    idx  = bisect_right(LT,entry_t)\n",
    "                    cand = LV[idx] if idx<len(LV) else entry-risk*base_rr\n",
    "                    tp   = cand if cand<entry else entry-risk*base_rr\n",
    "                    rr   = abs((tp-entry)/risk)\n",
    "\n",
    "                    # ❌ only go active if R:R > 1\n",
    "                    if rr <= rr_min:\n",
    "                        continue\n",
    "                    \n",
    "                    active = True\n",
    "\n",
    "                else:\n",
    "                    continue\n",
    "\n",
    "        else:\n",
    "            lo, hi = r['low'], r['high']\n",
    "            if side=='long':\n",
    "                if lo<=stop: result,exit_price='loss',stop\n",
    "                elif hi>=tp:   result,exit_price='win', tp\n",
    "                else:          continue\n",
    "            else:\n",
    "                if hi>=stop:   result,exit_price='loss',stop\n",
    "                elif lo<=tp:   result,exit_price='win', tp\n",
    "                else:          continue\n",
    "\n",
    "            # pnl + fees\n",
    "            # pnl_pct = ((exit_price-entry)/entry)*(1 if side=='long' else -1)*lev*100\n",
    "            # pnl_usd = cap*pnl_pct/100\n",
    "            # not_usd = cap*lev\n",
    "            # qty     = safe_round(not_usd/entry,4)\n",
    "            # fees    = qty*(entry+exit_price)*0.5*fee\n",
    "            # net     = pnl_usd - fees\n",
    "\n",
    "            results.append({\n",
    "                'symbol':      symbol,\n",
    "                'side':        side,\n",
    "                'entry_time':  entry_t,\n",
    "                'exit_time':   now,\n",
    "                'entry_price': entry,\n",
    "                'current_price': r['close'],\n",
    "                'stop_loss':   stop,\n",
    "                'take_profit': tp,\n",
    "                # 'exit_price':  exit_price,\n",
    "                # 'volume_$':    safe_round(not_usd,2),\n",
    "                # 'fees_$':      safe_round(fees,4),\n",
    "                # 'pnl_%':       safe_round(pnl_pct,2),\n",
    "                # 'pnl_$':       safe_round(pnl_usd,2),\n",
    "                # 'net_pnl_$':   safe_round(net,2),\n",
    "                'R:R':         safe_round(rr,2)\n",
    "            })\n",
    "            active=False\n",
    "        \n",
    "        if active: \n",
    "            # pnl_pct = None\n",
    "            # pnl_usd = None\n",
    "            # not_usd = cap*lev\n",
    "            # qty     = safe_round(not_usd/entry,4)\n",
    "            # fees    = None\n",
    "            # net     = None\n",
    "        \n",
    "            results.append({\n",
    "                'symbol':      symbol,\n",
    "                'side':        side,\n",
    "                'entry_time':  entry_t,\n",
    "                'exit_time':   None,\n",
    "                'entry_price': entry,\\\n",
    "                'current_price': r['close'],\n",
    "                'stop_loss':   stop,\n",
    "                'take_profit': tp,\n",
    "                # 'exit_price':  None,\n",
    "                # 'volume_$':    safe_round(not_usd,2),\n",
    "                # 'fees_$':      safe_round(fees,4),\n",
    "                # 'pnl_%':       safe_round(pnl_pct,2),\n",
    "                # 'pnl_$':       safe_round(pnl_usd,2),\n",
    "                # 'net_pnl_$':   safe_round(net,2),\n",
    "                'R:R':         safe_round(rr,2)\n",
    "            })\n",
    "    \n",
    "        \n",
    "    # Build results DataFrame\n",
    "    result_df = pd.DataFrame(results)\n",
    "\n",
    "    # Keep only the final trade (or return an empty DataFrame if there were none)\n",
    "    result_df = result_df.tail(1).reset_index(drop=True)\n",
    "\n",
    "    return result_df\n"
   ]
  },
  {
   "cell_type": "code",
   "execution_count": 3,
   "id": "7d9346d3",
   "metadata": {
    "execution": {
     "iopub.execute_input": "2025-06-11T06:49:44.255384Z",
     "iopub.status.busy": "2025-06-11T06:49:44.255182Z",
     "iopub.status.idle": "2025-06-11T06:50:12.342209Z",
     "shell.execute_reply": "2025-06-11T06:50:12.341468Z"
    },
    "papermill": {
     "duration": 28.090178,
     "end_time": "2025-06-11T06:50:12.343390",
     "exception": false,
     "start_time": "2025-06-11T06:49:44.253212",
     "status": "completed"
    },
    "tags": []
   },
   "outputs": [
    {
     "name": "stdout",
     "output_type": "stream",
     "text": [
      "▶ scanning ETH/USDT\n",
      "▶ scanning BTC/USDT\n",
      "▶ scanning SOL/USDT\n",
      "▶ scanning ALPACA/USDT\n",
      "▶ scanning 1000PEPE/USDT\n"
     ]
    },
    {
     "name": "stdout",
     "output_type": "stream",
     "text": [
      "▶ scanning AXL/USDT▶ scanning XRP/USDT\n",
      "\n"
     ]
    },
    {
     "name": "stdout",
     "output_type": "stream",
     "text": [
      "▶ scanning DOGE/USDT\n",
      "▶ scanning RESOLV/USDT\n",
      "▶ scanning UNI/USDT\n"
     ]
    },
    {
     "name": "stdout",
     "output_type": "stream",
     "text": [
      "▶ scanning AAVE/USDT\n",
      "▶ scanning SUI/USDT\n"
     ]
    },
    {
     "name": "stdout",
     "output_type": "stream",
     "text": [
      "▶ scanning FARTCOIN/USDT\n",
      "▶ scanning WIF/USDT\n"
     ]
    },
    {
     "name": "stdout",
     "output_type": "stream",
     "text": [
      "▶ scanning ENA/USDT\n"
     ]
    },
    {
     "name": "stdout",
     "output_type": "stream",
     "text": [
      "▶ scanning BNX/USDT\n",
      "▶ scanning ADA/USDT\n"
     ]
    },
    {
     "name": "stdout",
     "output_type": "stream",
     "text": [
      "▶ scanning ANIME/USDT\n",
      "▶ scanning LINK/USDT\n",
      "▶ scanning HOME/USDT\n"
     ]
    },
    {
     "name": "stdout",
     "output_type": "stream",
     "text": [
      "▶ scanning BNB/USDT\n",
      "▶ scanning HYPE/USDT\n"
     ]
    },
    {
     "name": "stdout",
     "output_type": "stream",
     "text": [
      "▶ scanning COMP/USDT\n",
      "▶ scanning RVN/USDT\n"
     ]
    },
    {
     "name": "stdout",
     "output_type": "stream",
     "text": [
      "▶ scanning AVAX/USDT\n"
     ]
    },
    {
     "name": "stdout",
     "output_type": "stream",
     "text": [
      "▶ scanning NEIRO/USDT\n",
      "▶ scanning TRUMP/USDT\n"
     ]
    },
    {
     "name": "stdout",
     "output_type": "stream",
     "text": [
      "▶ scanning OP/USDT\n",
      "▶ scanning LTC/USDT\n",
      "▶ scanning TRB/USDT\n"
     ]
    },
    {
     "name": "stdout",
     "output_type": "stream",
     "text": [
      "▶ scanning BCH/USDT\n",
      "▶ scanning MOODENG/USDT\n"
     ]
    },
    {
     "name": "stdout",
     "output_type": "stream",
     "text": [
      "▶ scanning WLD/USDT\n"
     ]
    },
    {
     "name": "stdout",
     "output_type": "stream",
     "text": [
      "▶ scanning VIRTUAL/USDT\n",
      "▶ scanning ARB/USDT\n",
      "▶ scanning CRV/USDT\n"
     ]
    },
    {
     "name": "stdout",
     "output_type": "stream",
     "text": [
      "▶ scanning HUMA/USDT\n",
      "▶ scanning PNUT/USDT\n"
     ]
    },
    {
     "name": "stdout",
     "output_type": "stream",
     "text": [
      "▶ scanning DOT/USDT\n",
      "▶ scanning MASK/USDT\n"
     ]
    },
    {
     "name": "stdout",
     "output_type": "stream",
     "text": [
      "▶ scanning LPT/USDT\n",
      "▶ scanning SPX/USDT\n",
      "▶ scanning LDO/USDT\n"
     ]
    },
    {
     "name": "stdout",
     "output_type": "stream",
     "text": [
      "▶ scanning ETHFI/USDT\n",
      "▶ scanning 1000000BOB/USDT\n"
     ]
    },
    {
     "name": "stdout",
     "output_type": "stream",
     "text": [
      "▶ scanning FIL/USDT\n",
      "▶ scanning 1000SHIB/USDT\n"
     ]
    },
    {
     "name": "stdout",
     "output_type": "stream",
     "text": [
      "▶ scanning NEAR/USDT\n",
      "▶ scanning MKR/USDT\n",
      "▶ scanning TAO/USDT\n"
     ]
    },
    {
     "name": "stdout",
     "output_type": "stream",
     "text": [
      "▶ scanning INIT/USDT\n",
      "▶ scanning KAIA/USDT\n"
     ]
    },
    {
     "name": "stdout",
     "output_type": "stream",
     "text": [
      "▶ scanning WCT/USDT\n",
      "▶ scanning TRX/USDT\n"
     ]
    },
    {
     "name": "stdout",
     "output_type": "stream",
     "text": [
      "▶ scanning TIA/USDT\n"
     ]
    },
    {
     "name": "stdout",
     "output_type": "stream",
     "text": [
      "▶ scanning INJ/USDT\n",
      "▶ scanning VIDT/USDT\n"
     ]
    },
    {
     "name": "stdout",
     "output_type": "stream",
     "text": [
      "▶ scanning AGIX/USDT\n",
      "▶ scanning PENGU/USDT\n",
      "▶ scanning EIGEN/USDT\n"
     ]
    },
    {
     "name": "stdout",
     "output_type": "stream",
     "text": [
      "▶ scanning SYRUP/USDT\n",
      "▶ scanning ENS/USDT\n"
     ]
    },
    {
     "name": "stdout",
     "output_type": "stream",
     "text": [
      "▶ scanning LA/USDT\n",
      "▶ scanning JTO/USDT\n"
     ]
    },
    {
     "name": "stdout",
     "output_type": "stream",
     "text": [
      "▶ scanning FET/USDT\n",
      "▶ scanning JUP/USDT\n",
      "▶ scanning UMA/USDT\n"
     ]
    },
    {
     "name": "stdout",
     "output_type": "stream",
     "text": [
      "▶ scanning ONDO/USDT\n",
      "▶ scanning ETC/USDT\n"
     ]
    },
    {
     "name": "stdout",
     "output_type": "stream",
     "text": [
      "▶ scanning A/USDT\n",
      "▶ scanning RPL/USDT\n",
      "▶ scanning SOPH/USDT\n"
     ]
    },
    {
     "name": "stdout",
     "output_type": "stream",
     "text": [
      "▶ scanning LINA/USDT\n",
      "▶ scanning BID/USDT\n"
     ]
    },
    {
     "name": "stdout",
     "output_type": "stream",
     "text": [
      "▶ scanning SKATE/USDT\n",
      "▶ scanning 1000BONK/USDT\n"
     ]
    },
    {
     "name": "stdout",
     "output_type": "stream",
     "text": [
      "▶ scanning FTM/USDT\n",
      "▶ scanning NXPC/USDT\n",
      "▶ scanning POPCAT/USDT\n"
     ]
    },
    {
     "name": "stdout",
     "output_type": "stream",
     "text": [
      "▶ scanning TON/USDT\n",
      "▶ scanning ICP/USDT\n"
     ]
    },
    {
     "name": "stdout",
     "output_type": "stream",
     "text": [
      "▶ scanning PEOPLE/USDT\n",
      "▶ scanning WAVES/USDT\n",
      "▶ scanning AIXBT/USDT\n"
     ]
    },
    {
     "name": "stdout",
     "output_type": "stream",
     "text": [
      "▶ scanning AI16Z/USDT\n",
      "▶ scanning XLM/USDT\n"
     ]
    },
    {
     "name": "stdout",
     "output_type": "stream",
     "text": [
      "▶ scanning AMB/USDT\n",
      "▶ scanning OM/USDT\n",
      "▶ scanning OCEAN/USDT\n"
     ]
    },
    {
     "name": "stdout",
     "output_type": "stream",
     "text": [
      "▶ scanning 1000FLOKI/USDT\n",
      "▶ scanning KAITO/USDT\n"
     ]
    },
    {
     "name": "stdout",
     "output_type": "stream",
     "text": [
      "▶ scanning COOKIE/USDT\n",
      "▶ scanning ORDI/USDT\n",
      "▶ scanning APT/USDT\n"
     ]
    },
    {
     "name": "stdout",
     "output_type": "stream",
     "text": [
      "▶ scanning GALA/USDT\n",
      "▶ scanning HBAR/USDT\n"
     ]
    },
    {
     "name": "stdout",
     "output_type": "stream",
     "text": [
      "▶ scanning DEXE/USDT\n",
      "▶ scanning SSV/USDT\n",
      "▶ scanning STRAX/USDT\n"
     ]
    },
    {
     "name": "stdout",
     "output_type": "stream",
     "text": [
      "▶ scanning ICX/USDT\n"
     ]
    },
    {
     "name": "stdout",
     "output_type": "stream",
     "text": [
      "→ Window: 2025-06-02T06:49:44.046400+00:00 → 2025-06-11T06:49:44.046400+00:00\n"
     ]
    },
    {
     "data": {
      "text/plain": [
       "[     symbol  side                entry_time exit_time  entry_price  \\\n",
       " 0  ETH/USDT  long 2025-06-11 12:15:00+07:00       NaT      2800.74   \n",
       " \n",
       "    current_price    stop_loss  take_profit  R:R  \n",
       " 0        2800.74  2757.985862  2864.871206  1.5  ,\n",
       "           symbol  side                entry_time exit_time  entry_price  \\\n",
       " 0  1000PEPE/USDT  long 2025-06-11 13:15:00+07:00       NaT     0.012825   \n",
       " \n",
       "    current_price  stop_loss  take_profit  R:R  \n",
       " 0       0.012825   0.012484     0.013336  1.5  ,\n",
       "      symbol  side                entry_time exit_time  entry_price  \\\n",
       " 0  WIF/USDT  long 2025-06-11 06:45:00+07:00       NaT       1.0268   \n",
       " \n",
       "    current_price  stop_loss  take_profit  R:R  \n",
       " 0         1.0268   0.992523     1.078215  1.5  ,\n",
       "       symbol  side                entry_time exit_time  entry_price  \\\n",
       " 0  LINK/USDT  long 2025-06-11 12:45:00+07:00       NaT       15.279   \n",
       " \n",
       "    current_price  stop_loss  take_profit  R:R  \n",
       " 0         15.279  15.039258    15.638613  1.5  ,\n",
       "       symbol  side                entry_time exit_time  entry_price  \\\n",
       " 0  COMP/USDT  long 2025-06-11 11:30:00+07:00       NaT        61.39   \n",
       " \n",
       "    current_price  stop_loss  take_profit  R:R  \n",
       " 0          61.39  59.180517    64.704225  1.5  ,\n",
       "      symbol  side                entry_time exit_time  entry_price  \\\n",
       " 0  BCH/USDT  long 2025-06-11 13:30:00+07:00       NaT       443.87   \n",
       " \n",
       "    current_price   stop_loss  take_profit  R:R  \n",
       " 0         443.87  437.907288   452.814068  1.5  ,\n",
       "          symbol  side                entry_time exit_time  entry_price  \\\n",
       " 0  VIRTUAL/USDT  long 2025-06-11 10:30:00+07:00       NaT       2.1348   \n",
       " \n",
       "    current_price  stop_loss  take_profit  R:R  \n",
       " 0         2.1348   2.072203     2.228696  1.5  ,\n",
       "       symbol   side                entry_time exit_time  entry_price  \\\n",
       " 0  MASK/USDT  short 2025-06-07 22:30:00+07:00       NaT       1.8144   \n",
       " \n",
       "    current_price  stop_loss  take_profit  R:R  \n",
       " 0         1.8144   2.027587      1.49462  1.5  ,\n",
       "      symbol  side                entry_time exit_time  entry_price  \\\n",
       " 0  FIL/USDT  long 2025-06-11 11:30:00+07:00       NaT        2.713   \n",
       " \n",
       "    current_price  stop_loss  take_profit  R:R  \n",
       " 0          2.713   2.673359     2.772461  1.5  ,\n",
       "      symbol  side                entry_time exit_time  entry_price  \\\n",
       " 0  TRX/USDT  long 2025-06-11 12:00:00+07:00       NaT       0.2909   \n",
       " \n",
       "    current_price  stop_loss  take_profit  R:R  \n",
       " 0         0.2909   0.288493     0.294511  1.5  ,\n",
       "      symbol   side                entry_time exit_time  entry_price  \\\n",
       " 0  UMA/USDT  short 2025-06-11 11:30:00+07:00       NaT        1.521   \n",
       " \n",
       "    current_price  stop_loss  take_profit  R:R  \n",
       " 0          1.521   1.582717     1.428425  1.5  ,\n",
       "      symbol  side                entry_time exit_time  entry_price  \\\n",
       " 0  ETC/USDT  long 2025-06-11 13:00:00+07:00       NaT       18.395   \n",
       " \n",
       "    current_price  stop_loss  take_profit  R:R  \n",
       " 0         18.395  18.128353     18.79497  1.5  ,\n",
       "           symbol  side                entry_time exit_time  entry_price  \\\n",
       " 0  1000BONK/USDT  long 2025-06-11 11:30:00+07:00       NaT     0.017658   \n",
       " \n",
       "    current_price  stop_loss  take_profit  R:R  \n",
       " 0       0.017658   0.017244     0.018279  1.5  ,\n",
       "       symbol  side                entry_time exit_time  entry_price  \\\n",
       " 0  ORDI/USDT  long 2025-06-11 13:15:00+07:00       NaT        9.533   \n",
       " \n",
       "    current_price  stop_loss  take_profit  R:R  \n",
       " 0          9.533   9.328017     9.840475  1.5  ]"
      ]
     },
     "execution_count": 3,
     "metadata": {},
     "output_type": "execute_result"
    }
   ],
   "source": [
    "# ─── Block 3: scan each symbol in parallel and collect only still-open trades ──\n",
    "import time\n",
    "import pandas as pd\n",
    "from concurrent.futures import ThreadPoolExecutor, as_completed\n",
    "from datetime import datetime\n",
    "\n",
    "# rate_limit_sec = binance.rateLimit / 5000  \n",
    "\n",
    "def _process_symbol(sym):\n",
    "    # time.sleep(rate_limit_sec)\n",
    "    try:\n",
    "        df_trades = scan_symbol(sym, start_ms, end_ms)\n",
    "        if df_trades is None or df_trades.empty or 'exit_time' not in df_trades:\n",
    "            return None\n",
    "        still_open = df_trades[df_trades['exit_time'].isna()].copy()\n",
    "        if still_open.empty:\n",
    "            return None\n",
    "        still_open['symbol'] = sym\n",
    "        return still_open\n",
    "    except Exception as e:\n",
    "        print(f\"⚠️ Error processing {sym}: {e}\")\n",
    "        return None\n",
    "\n",
    "open_trades = []\n",
    "max_workers = 5\n",
    "with ThreadPoolExecutor(max_workers=max_workers) as executor:\n",
    "    futures = {executor.submit(_process_symbol, sym): sym for sym in symbols}\n",
    "    for fut in as_completed(futures):\n",
    "        res = fut.result()\n",
    "        if res is not None:\n",
    "            open_trades.append(res)\n",
    "\n",
    "print(f\"→ Window: {start.isoformat()} → {end.isoformat()}\")\n",
    "\n",
    "open_trades\n",
    "\n"
   ]
  },
  {
   "cell_type": "code",
   "execution_count": 4,
   "id": "fb789a2b",
   "metadata": {
    "execution": {
     "iopub.execute_input": "2025-06-11T06:50:12.351168Z",
     "iopub.status.busy": "2025-06-11T06:50:12.350938Z",
     "iopub.status.idle": "2025-06-11T06:50:12.370571Z",
     "shell.execute_reply": "2025-06-11T06:50:12.369891Z"
    },
    "papermill": {
     "duration": 0.024873,
     "end_time": "2025-06-11T06:50:12.371708",
     "exception": false,
     "start_time": "2025-06-11T06:50:12.346835",
     "status": "completed"
    },
    "tags": []
   },
   "outputs": [
    {
     "name": "stdout",
     "output_type": "stream",
     "text": [
      "\n",
      "📋 Active orders:\n"
     ]
    },
    {
     "data": {
      "text/html": [
       "<div>\n",
       "<style scoped>\n",
       "    .dataframe tbody tr th:only-of-type {\n",
       "        vertical-align: middle;\n",
       "    }\n",
       "\n",
       "    .dataframe tbody tr th {\n",
       "        vertical-align: top;\n",
       "    }\n",
       "\n",
       "    .dataframe thead th {\n",
       "        text-align: right;\n",
       "    }\n",
       "</style>\n",
       "<table border=\"1\" class=\"dataframe\">\n",
       "  <thead>\n",
       "    <tr style=\"text-align: right;\">\n",
       "      <th></th>\n",
       "      <th>symbol</th>\n",
       "      <th>side</th>\n",
       "      <th>entry_time</th>\n",
       "      <th>entry_price</th>\n",
       "      <th>current_price</th>\n",
       "      <th>stop_loss</th>\n",
       "      <th>take_profit</th>\n",
       "      <th>R:R</th>\n",
       "    </tr>\n",
       "  </thead>\n",
       "  <tbody>\n",
       "    <tr>\n",
       "      <th>5</th>\n",
       "      <td>BCH/USDT</td>\n",
       "      <td>long</td>\n",
       "      <td>2025-06-11 13:30</td>\n",
       "      <td>443.870000</td>\n",
       "      <td>443.870000</td>\n",
       "      <td>437.907288</td>\n",
       "      <td>452.814068</td>\n",
       "      <td>1.5</td>\n",
       "    </tr>\n",
       "    <tr>\n",
       "      <th>1</th>\n",
       "      <td>1000PEPE/USDT</td>\n",
       "      <td>long</td>\n",
       "      <td>2025-06-11 13:15</td>\n",
       "      <td>0.012825</td>\n",
       "      <td>0.012825</td>\n",
       "      <td>0.012484</td>\n",
       "      <td>0.013336</td>\n",
       "      <td>1.5</td>\n",
       "    </tr>\n",
       "    <tr>\n",
       "      <th>13</th>\n",
       "      <td>ORDI/USDT</td>\n",
       "      <td>long</td>\n",
       "      <td>2025-06-11 13:15</td>\n",
       "      <td>9.533000</td>\n",
       "      <td>9.533000</td>\n",
       "      <td>9.328017</td>\n",
       "      <td>9.840475</td>\n",
       "      <td>1.5</td>\n",
       "    </tr>\n",
       "    <tr>\n",
       "      <th>11</th>\n",
       "      <td>ETC/USDT</td>\n",
       "      <td>long</td>\n",
       "      <td>2025-06-11 13:00</td>\n",
       "      <td>18.395000</td>\n",
       "      <td>18.395000</td>\n",
       "      <td>18.128353</td>\n",
       "      <td>18.794970</td>\n",
       "      <td>1.5</td>\n",
       "    </tr>\n",
       "    <tr>\n",
       "      <th>3</th>\n",
       "      <td>LINK/USDT</td>\n",
       "      <td>long</td>\n",
       "      <td>2025-06-11 12:45</td>\n",
       "      <td>15.279000</td>\n",
       "      <td>15.279000</td>\n",
       "      <td>15.039258</td>\n",
       "      <td>15.638613</td>\n",
       "      <td>1.5</td>\n",
       "    </tr>\n",
       "    <tr>\n",
       "      <th>0</th>\n",
       "      <td>ETH/USDT</td>\n",
       "      <td>long</td>\n",
       "      <td>2025-06-11 12:15</td>\n",
       "      <td>2800.740000</td>\n",
       "      <td>2800.740000</td>\n",
       "      <td>2757.985862</td>\n",
       "      <td>2864.871206</td>\n",
       "      <td>1.5</td>\n",
       "    </tr>\n",
       "    <tr>\n",
       "      <th>9</th>\n",
       "      <td>TRX/USDT</td>\n",
       "      <td>long</td>\n",
       "      <td>2025-06-11 12:00</td>\n",
       "      <td>0.290900</td>\n",
       "      <td>0.290900</td>\n",
       "      <td>0.288493</td>\n",
       "      <td>0.294511</td>\n",
       "      <td>1.5</td>\n",
       "    </tr>\n",
       "    <tr>\n",
       "      <th>4</th>\n",
       "      <td>COMP/USDT</td>\n",
       "      <td>long</td>\n",
       "      <td>2025-06-11 11:30</td>\n",
       "      <td>61.390000</td>\n",
       "      <td>61.390000</td>\n",
       "      <td>59.180517</td>\n",
       "      <td>64.704225</td>\n",
       "      <td>1.5</td>\n",
       "    </tr>\n",
       "    <tr>\n",
       "      <th>8</th>\n",
       "      <td>FIL/USDT</td>\n",
       "      <td>long</td>\n",
       "      <td>2025-06-11 11:30</td>\n",
       "      <td>2.713000</td>\n",
       "      <td>2.713000</td>\n",
       "      <td>2.673359</td>\n",
       "      <td>2.772461</td>\n",
       "      <td>1.5</td>\n",
       "    </tr>\n",
       "    <tr>\n",
       "      <th>10</th>\n",
       "      <td>UMA/USDT</td>\n",
       "      <td>short</td>\n",
       "      <td>2025-06-11 11:30</td>\n",
       "      <td>1.521000</td>\n",
       "      <td>1.521000</td>\n",
       "      <td>1.582717</td>\n",
       "      <td>1.428425</td>\n",
       "      <td>1.5</td>\n",
       "    </tr>\n",
       "    <tr>\n",
       "      <th>12</th>\n",
       "      <td>1000BONK/USDT</td>\n",
       "      <td>long</td>\n",
       "      <td>2025-06-11 11:30</td>\n",
       "      <td>0.017658</td>\n",
       "      <td>0.017658</td>\n",
       "      <td>0.017244</td>\n",
       "      <td>0.018279</td>\n",
       "      <td>1.5</td>\n",
       "    </tr>\n",
       "    <tr>\n",
       "      <th>6</th>\n",
       "      <td>VIRTUAL/USDT</td>\n",
       "      <td>long</td>\n",
       "      <td>2025-06-11 10:30</td>\n",
       "      <td>2.134800</td>\n",
       "      <td>2.134800</td>\n",
       "      <td>2.072203</td>\n",
       "      <td>2.228696</td>\n",
       "      <td>1.5</td>\n",
       "    </tr>\n",
       "    <tr>\n",
       "      <th>2</th>\n",
       "      <td>WIF/USDT</td>\n",
       "      <td>long</td>\n",
       "      <td>2025-06-11 06:45</td>\n",
       "      <td>1.026800</td>\n",
       "      <td>1.026800</td>\n",
       "      <td>0.992523</td>\n",
       "      <td>1.078215</td>\n",
       "      <td>1.5</td>\n",
       "    </tr>\n",
       "    <tr>\n",
       "      <th>7</th>\n",
       "      <td>MASK/USDT</td>\n",
       "      <td>short</td>\n",
       "      <td>2025-06-07 22:30</td>\n",
       "      <td>1.814400</td>\n",
       "      <td>1.814400</td>\n",
       "      <td>2.027587</td>\n",
       "      <td>1.494620</td>\n",
       "      <td>1.5</td>\n",
       "    </tr>\n",
       "  </tbody>\n",
       "</table>\n",
       "</div>"
      ],
      "text/plain": [
       "           symbol   side        entry_time  entry_price  current_price  \\\n",
       "5        BCH/USDT   long  2025-06-11 13:30   443.870000     443.870000   \n",
       "1   1000PEPE/USDT   long  2025-06-11 13:15     0.012825       0.012825   \n",
       "13      ORDI/USDT   long  2025-06-11 13:15     9.533000       9.533000   \n",
       "11       ETC/USDT   long  2025-06-11 13:00    18.395000      18.395000   \n",
       "3       LINK/USDT   long  2025-06-11 12:45    15.279000      15.279000   \n",
       "0        ETH/USDT   long  2025-06-11 12:15  2800.740000    2800.740000   \n",
       "9        TRX/USDT   long  2025-06-11 12:00     0.290900       0.290900   \n",
       "4       COMP/USDT   long  2025-06-11 11:30    61.390000      61.390000   \n",
       "8        FIL/USDT   long  2025-06-11 11:30     2.713000       2.713000   \n",
       "10       UMA/USDT  short  2025-06-11 11:30     1.521000       1.521000   \n",
       "12  1000BONK/USDT   long  2025-06-11 11:30     0.017658       0.017658   \n",
       "6    VIRTUAL/USDT   long  2025-06-11 10:30     2.134800       2.134800   \n",
       "2        WIF/USDT   long  2025-06-11 06:45     1.026800       1.026800   \n",
       "7       MASK/USDT  short  2025-06-07 22:30     1.814400       1.814400   \n",
       "\n",
       "      stop_loss  take_profit  R:R  \n",
       "5    437.907288   452.814068  1.5  \n",
       "1      0.012484     0.013336  1.5  \n",
       "13     9.328017     9.840475  1.5  \n",
       "11    18.128353    18.794970  1.5  \n",
       "3     15.039258    15.638613  1.5  \n",
       "0   2757.985862  2864.871206  1.5  \n",
       "9      0.288493     0.294511  1.5  \n",
       "4     59.180517    64.704225  1.5  \n",
       "8      2.673359     2.772461  1.5  \n",
       "10     1.582717     1.428425  1.5  \n",
       "12     0.017244     0.018279  1.5  \n",
       "6      2.072203     2.228696  1.5  \n",
       "2      0.992523     1.078215  1.5  \n",
       "7      2.027587     1.494620  1.5  "
      ]
     },
     "metadata": {},
     "output_type": "display_data"
    }
   ],
   "source": [
    "from datetime import datetime\n",
    "\n",
    "timestamp = datetime.now().strftime(\"%Y-%m-%d %H:%M:%S\")\n",
    "\n",
    "if open_trades:\n",
    "    df_active = pd.concat(open_trades, ignore_index=True)\n",
    "\n",
    "    # Clean up DataFrame\n",
    "    df_active = df_active.drop(columns=[\"exit_time\"], errors=\"ignore\")\n",
    "    df_active = df_active.sort_values(\"entry_time\", ascending=False)\n",
    "    df_active[\"entry_time\"] = pd.to_datetime(df_active[\"entry_time\"]).dt.strftime(\"%Y-%m-%d %H:%M\")\n",
    "    \n",
    "    # Round float columns for readability\n",
    "    float_cols = df_active.select_dtypes(include='number').columns\n",
    "\n",
    "    # Prepare formatted string\n",
    "    formatted = df_active.tail(10).to_string(index=False)\n",
    "\n",
    "    with open(\"summary.txt\", \"w\") as f:\n",
    "        f.write(f\"{timestamp}\\n\")\n",
    "        f.write(formatted + \"\\n\")\n",
    "\n",
    "    # Display in notebook\n",
    "    print(\"\\n📋 Active orders:\")\n",
    "    display(df_active)\n",
    "\n",
    "else:\n",
    "    with open(\"summary.txt\", \"w\") as f:\n",
    "        f.write(f\"{timestamp}\\n\")\n",
    "        f.write(\"No active trades at the moment.\\n\")\n"
   ]
  }
 ],
 "metadata": {
  "kernelspec": {
   "display_name": "Python 3",
   "language": "python",
   "name": "python3"
  },
  "language_info": {
   "codemirror_mode": {
    "name": "ipython",
    "version": 3
   },
   "file_extension": ".py",
   "mimetype": "text/x-python",
   "name": "python",
   "nbconvert_exporter": "python",
   "pygments_lexer": "ipython3",
   "version": "3.10.12"
  },
  "papermill": {
   "default_parameters": {},
   "duration": 33.585317,
   "end_time": "2025-06-11T06:50:12.892049",
   "environment_variables": {},
   "exception": null,
   "input_path": "Holy_Grail.ipynb",
   "output_path": "output.ipynb",
   "parameters": {},
   "start_time": "2025-06-11T06:49:39.306732",
   "version": "2.6.0"
  }
 },
 "nbformat": 4,
 "nbformat_minor": 5
}