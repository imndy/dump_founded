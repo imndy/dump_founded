{
 "cells": [
  {
   "cell_type": "code",
   "execution_count": 1,
   "id": "a38d91ee",
   "metadata": {
    "execution": {
     "iopub.execute_input": "2025-06-09T17:59:58.453754Z",
     "iopub.status.busy": "2025-06-09T17:59:58.453161Z",
     "iopub.status.idle": "2025-06-09T17:59:58.467111Z",
     "shell.execute_reply": "2025-06-09T17:59:58.465662Z"
    },
    "papermill": {
     "duration": 0.02736,
     "end_time": "2025-06-09T17:59:58.469441",
     "exception": false,
     "start_time": "2025-06-09T17:59:58.442081",
     "status": "completed"
    },
    "tags": []
   },
   "outputs": [],
   "source": [
    "# # ─── Block 1: SETUP + TOP-100 USDT-M FUTURES (last 21 days) ─────────────────\n",
    "# from datetime import datetime, timezone, timedelta\n",
    "# import ccxt, pandas as pd, time\n",
    "# from bisect import bisect_right\n",
    "\n",
    "# # 0) FIXED WINDOW: days ago → now\n",
    "# spans = 9\n",
    "# now_utc  = datetime.now(timezone.utc)\n",
    "# start    = now_utc - timedelta(days=spans)\n",
    "# end      = now_utc\n",
    "\n",
    "# print(f\"→ Window: {start.isoformat()} → {end.isoformat()}\")\n",
    "\n",
    "# # to ms, bump exact-midnight end forward by 1 ms\n",
    "# start_ms = int(start.timestamp() * 1000)\n",
    "# end_ms   = int(  end.timestamp() * 1000)\n",
    "# if end_ms % 86_400_000 == 0:\n",
    "#     end_ms += 86_400_000 - 1\n",
    "\n",
    "# # 1) CCXT FUTURES CLIENT\n",
    "# binance = ccxt.binance({\n",
    "#     'options':        {'defaultType': 'future'},\n",
    "#     'enableRateLimit': True,\n",
    "# })\n",
    "\n",
    "# # 2) GET 24 h STATS FROM USD-MARGined FUTURES\n",
    "# raw24 = binance.fapiPublicGetTicker24hr()    # GET /fapi/v1/ticker/24hr\n",
    "# # filter symbols ending in \"USDT\"\n",
    "# usdt  = [t for t in raw24 if t['symbol'].endswith('USDT')]\n",
    "# # pick topn by quoteVolume\n",
    "# n=100\n",
    "# topn = sorted(\n",
    "#     usdt,\n",
    "#     key=lambda x: float(x['quoteVolume']),\n",
    "#     reverse=True\n",
    "# )[:n]\n",
    "# # normalize to ccxt unified format \"BTC/USDT\"\n",
    "# symbols = [ t['symbol'][:-4] + '/USDT' for t in topn ]\n",
    "\n",
    "# print(\"Top\" + str(len(symbols)) + \" USDT-M futures by 24 h volume:\")\n",
    "# print(symbols)\n",
    "# print()\n"
   ]
  },
  {
   "cell_type": "code",
   "execution_count": 2,
   "id": "c26c4ba0",
   "metadata": {
    "execution": {
     "iopub.execute_input": "2025-06-09T17:59:58.698419Z",
     "iopub.status.busy": "2025-06-09T17:59:58.698025Z",
     "iopub.status.idle": "2025-06-09T18:00:25.210406Z",
     "shell.execute_reply": "2025-06-09T18:00:25.208874Z"
    },
    "papermill": {
     "duration": 26.520487,
     "end_time": "2025-06-09T18:00:25.213007",
     "exception": false,
     "start_time": "2025-06-09T17:59:58.692520",
     "status": "completed"
    },
    "tags": []
   },
   "outputs": [
    {
     "name": "stdout",
     "output_type": "stream",
     "text": [
      "→ Window: 2025-05-31T18:00:24.235278+00:00 → 2025-06-09T18:00:24.235278+00:00\n"
     ]
    },
    {
     "name": "stdout",
     "output_type": "stream",
     "text": [
      "Top 100 USDT-M futures by 24 h volume:\n",
      "['BTC/USDT', 'ETH/USDT', 'SOL/USDT', 'ALPACA/USDT', 'XRP/USDT', '1000PEPE/USDT', 'DOGE/USDT', 'SUI/USDT', 'ANIME/USDT', 'BID/USDT', 'FARTCOIN/USDT', 'BNX/USDT', 'UMA/USDT', 'WIF/USDT', 'RVN/USDT', 'LA/USDT', 'ADA/USDT', 'MASK/USDT', 'AVAX/USDT', 'HUMA/USDT', 'HMSTR/USDT', 'ENA/USDT', 'AAVE/USDT', 'BNB/USDT', 'HYPE/USDT', 'VIRTUAL/USDT', 'TRUMP/USDT', 'LINK/USDT', 'KAIA/USDT', 'DEXE/USDT', 'SPX/USDT', 'LPT/USDT', 'TRB/USDT', 'WLD/USDT', 'UNI/USDT', 'MOODENG/USDT', 'TAO/USDT', 'ICP/USDT', 'LTC/USDT', 'VVV/USDT', 'COOKIE/USDT', 'BCH/USDT', 'VIDT/USDT', 'OP/USDT', 'AGIX/USDT', 'DOT/USDT', 'NXPC/USDT', 'PNUT/USDT', 'KAITO/USDT', 'NEIRO/USDT', 'CRV/USDT', 'SOPH/USDT', 'FET/USDT', 'INJ/USDT', 'WCT/USDT', 'ETHFI/USDT', 'SHELL/USDT', 'SKATE/USDT', 'FIL/USDT', 'TRX/USDT', 'NEAR/USDT', 'LINA/USDT', 'TIA/USDT', 'POPCAT/USDT', 'TON/USDT', '1000SHIB/USDT', 'FTM/USDT', 'WAVES/USDT', 'AIXBT/USDT', '1000BONK/USDT', 'AMB/USDT', 'ONDO/USDT', 'OCEAN/USDT', 'B/USDT', 'GUN/USDT', 'ICX/USDT', 'EIGEN/USDT', 'ARB/USDT', 'LDO/USDT', 'STRAX/USDT', 'AI16Z/USDT', 'REN/USDT', 'XLM/USDT', 'UNFI/USDT', 'ETC/USDT', 'TUT/USDT', 'HBAR/USDT', 'SYRUP/USDT', 'CHESS/USDT', 'MKR/USDT', 'APE/USDT', 'DGB/USDT', 'JUP/USDT', 'TROY/USDT', 'ORDI/USDT', 'PENGU/USDT', 'ZEREBRO/USDT', '1000000BOB/USDT', 'GALA/USDT', 'INIT/USDT']\n"
     ]
    }
   ],
   "source": [
    "# ─── Block 1: SETUP + TOP-100 USDT-M FUTURES (last 21 days) ────────────────\n",
    "from datetime import datetime, timezone, timedelta\n",
    "import ccxt, pandas as pd, time\n",
    "from bisect import bisect_right\n",
    "\n",
    "# 0) FIXED WINDOW: days ago → now\n",
    "spans    = 9\n",
    "now_utc  = datetime.now(timezone.utc)\n",
    "start    = now_utc - timedelta(days=spans)\n",
    "end      = now_utc\n",
    "\n",
    "print(f\"→ Window: {start.isoformat()} → {end.isoformat()}\")\n",
    "\n",
    "# to ms, bump exact-midnight end forward by 1 ms\n",
    "start_ms = int(start.timestamp() * 1000)\n",
    "end_ms   = int(  end.timestamp() * 1000)\n",
    "if end_ms % 86_400_000 == 0:\n",
    "    end_ms += 86_400_000 - 1\n",
    "\n",
    "# 1) CCXT FUTURES CLIENT\n",
    "# binance = ccxt.binance({\n",
    "#     'options':        {'defaultType': 'future'},\n",
    "#     'enableRateLimit': True,\n",
    "# })\n",
    "\n",
    "binance = ccxt.binanceusdm({\n",
    "  'enableRateLimit': True,\n",
    "})\n",
    "\n",
    "# 2) TRY to GET 24 h STATS\n",
    "try:\n",
    "    raw24 = binance.fapiPublicGetTicker24hr()    # GET /fapi/v1/ticker/24hr\n",
    "    usdt  = [t for t in raw24 if t['symbol'].endswith('USDT')]\n",
    "    topn  = sorted(usdt, key=lambda x: float(x['quoteVolume']), reverse=True)[:100]\n",
    "    symbols = [ t['symbol'][:-4] + '/USDT' for t in topn ]\n",
    "    print(f\"Top {len(symbols)} USDT-M futures by 24 h volume:\")\n",
    "    print(symbols)\n",
    "except Exception as e:\n",
    "    print(f\"⚠️  Cannot fetch futures tickers ({e}), falling back to symbols.txt\")\n",
    "    # Load a pre-prepared file of one-per-line SYMBOL/USDT\n",
    "    with open('symbols.txt') as f:\n",
    "        symbols = [l.strip() for l in f if l.strip()]\n",
    "\n"
   ]
  },
  {
   "cell_type": "code",
   "execution_count": 3,
   "id": "53e745d8",
   "metadata": {
    "execution": {
     "iopub.execute_input": "2025-06-09T18:00:25.244214Z",
     "iopub.status.busy": "2025-06-09T18:00:25.243619Z",
     "iopub.status.idle": "2025-06-09T18:00:25.946669Z",
     "shell.execute_reply": "2025-06-09T18:00:25.944973Z"
    },
    "papermill": {
     "duration": 0.711944,
     "end_time": "2025-06-09T18:00:25.949583",
     "exception": false,
     "start_time": "2025-06-09T18:00:25.237639",
     "status": "completed"
    },
    "tags": []
   },
   "outputs": [],
   "source": [
    "# ─── Block 2: fetch_ohlcv_until() + scan_symbol() ───────────────────────────\n",
    "import numpy as np\n",
    "from ta.trend      import MACD, ADXIndicator, EMAIndicator\n",
    "from ta.volatility import AverageTrueRange\n",
    "from ta.momentum   import RSIIndicator\n",
    "import ta  # for MFI\n",
    "\n",
    "def fetch_ohlcv_until(symbol, timeframe, start_ms, end_ms, limit=1500):\n",
    "    all_bars, cursor = [], start_ms\n",
    "    delay = binance.rateLimit/1000\n",
    "    while True:\n",
    "        batch = binance.fetch_ohlcv(symbol, timeframe, since=cursor, limit=limit)\n",
    "        if not batch: break\n",
    "        last = batch[-1][0]\n",
    "        all_bars += batch\n",
    "        print(f\"  • fetched {len(batch)} bars → {pd.to_datetime(last,unit='ms')} UTC\")\n",
    "        if last >= end_ms:\n",
    "            all_bars = [b for b in all_bars if b[0] <= end_ms]\n",
    "            print(\"    ▶ reach end_ms, stopping.\")\n",
    "            break\n",
    "        cursor = last+1\n",
    "        time.sleep(delay)\n",
    "        if len(batch)<limit: break\n",
    "\n",
    "    df = pd.DataFrame(all_bars, columns=['ts','open','high','low','close','volume'])\n",
    "    df['timestamp'] = pd.to_datetime(df['ts'],unit='ms')\n",
    "    df.set_index('timestamp',inplace=True)\n",
    "    df.drop('ts',axis=1,inplace=True)\n",
    "    df = df[(df.index>=pd.to_datetime(start_ms,unit='ms'))\n",
    "          & (df.index<=pd.to_datetime(end_ms,  unit='ms'))]\n",
    "    df.index = df.index.tz_localize('UTC').tz_convert('Asia/Bangkok')\n",
    "    return df\n",
    "\n",
    "def safe_round(value, ndigits=0):\n",
    "    if isinstance(value, (int, float)):\n",
    "        return round(value, ndigits)\n",
    "    return value  # Leave it unchanged if not a number\n",
    "\n",
    "def scan_symbol(symbol, start_ms, end_ms):\n",
    "    print(f\"▶ scanning {symbol}\")\n",
    "    # 1) fetch 15m + warmup 4h\n",
    "    df15 = fetch_ohlcv_until(symbol, '15m', start_ms, end_ms)\n",
    "    MS4H = 4*60*60*1000\n",
    "    warm = start_ms - (14*10 + 5)*MS4H\n",
    "    raw4 = fetch_ohlcv_until(symbol, '4h', warm, end_ms)\n",
    "    # slice raw4 → exact window\n",
    "    sdt = pd.to_datetime(start_ms,unit='ms',utc=True).tz_convert('Asia/Bangkok')\n",
    "    edt = pd.to_datetime(end_ms,  unit='ms',utc=True).tz_convert('Asia/Bangkok')\n",
    "    df4  = raw4.loc[sdt:edt]\n",
    "\n",
    "    # 2) merge 4h → 15m\n",
    "    # ─── 4h → 15m ATR & ADX (guard against too-short history + catch errors) ──────────────────\n",
    "    WINDOW = 14\n",
    "\n",
    "    if len(raw4) < WINDOW + 1:\n",
    "        # Not enough 4h bars to compute a 14-period indicator\n",
    "        atr4 = pd.Series(0.0, index=df15.index)\n",
    "        adx4 = pd.Series(0.0, index=df15.index)\n",
    "    else:\n",
    "        # ATR(14)\n",
    "        atr4 = AverageTrueRange(\n",
    "            high= raw4['high'],\n",
    "            low=  raw4['low'],\n",
    "            close=raw4['close'],\n",
    "            window=WINDOW\n",
    "        ).average_true_range()\n",
    "\n",
    "        # ADX(14) with exception handling\n",
    "        try:\n",
    "            adx_series = ADXIndicator(\n",
    "                high= raw4['high'],\n",
    "                low=  raw4['low'],\n",
    "                close=raw4['close'],\n",
    "                window=WINDOW,\n",
    "                fillna=False\n",
    "            ).adx()\n",
    "            adx4 = adx_series.fillna(0)\n",
    "        except Exception as e:\n",
    "            print(f\"    ⚠️ ADX calculation failed for {symbol}: {e}. Zero-filling it.\")\n",
    "            adx4 = pd.Series(0.0, index=raw4.index)\n",
    "\n",
    "    # forward-fill onto the 15m frame\n",
    "    df15['ATR_4h'] = atr4.reindex(df15.index, method='ffill')\n",
    "    df15['ADX_4h'] = adx4.reindex(df15.index, method='ffill')\n",
    "\n",
    "    # 3) 15m indicators\n",
    "    macd = MACD(df15['close'])\n",
    "    df15['MACD_line']   = macd.macd()\n",
    "    df15['MACD_signal'] = macd.macd_signal()\n",
    "    df15['MACD_hist']   = macd.macd_diff()\n",
    "    df15['MFI']   = ta.volume.money_flow_index(df15['high'],df15['low'],df15['close'],df15['volume'],14)\n",
    "    df15['EMA50'] = EMAIndicator(df15['close'],50).ema_indicator()\n",
    "    df15['EMA100']= EMAIndicator(df15['close'],100).ema_indicator()\n",
    "    df15['RSI']   = RSIIndicator(df15['close'],14).rsi()\n",
    "    df15['ATR']   = AverageTrueRange(df15['high'],df15['low'],df15['close'],14).average_true_range()\n",
    "    df15['ATR30']= df15['ATR'].rolling(30).mean()\n",
    "    df15['ADX']  = ADXIndicator(df15['high'],df15['low'],df15['close'],14).adx()\n",
    "    df15.dropna(inplace=True)\n",
    "\n",
    "    # 4) pivots\n",
    "    pw = 10\n",
    "    df15['is_pivot_high'] = df15['high'].rolling(2*pw+1,center=True)\\\n",
    "                                  .apply(lambda x: np.argmax(x)==pw,raw=True)\n",
    "    df15['is_pivot_low']  = df15['low'].rolling (2*pw+1,center=True)\\\n",
    "                                  .apply(lambda x: np.argmin(x)==pw,raw=True)\n",
    "    highs = df15.loc[df15['is_pivot_high']==1,'high']\n",
    "    lows  = df15.loc[df15['is_pivot_low']==1, 'low']\n",
    "    HT, HV = highs.index.tolist(), highs.values.tolist()\n",
    "    LT, LV = lows.index.tolist(),  lows.values.tolist()\n",
    "\n",
    "    # 5) backtest exactly as before\n",
    "    results, active = [], False\n",
    "    lev, cap, base_rr, rr_min, th = 10, 25, 1.5, 0.15, 25\n",
    "    risk_th = 0.75\n",
    "    fee = 0.0005\n",
    "    for i in range(1,len(df15)):\n",
    "        r, p = df15.iloc[i], df15.iloc[i-1]\n",
    "        now  = r.name\n",
    "\n",
    "        if not active:\n",
    "            # trend filter\n",
    "            if r['ADX_4h']<th: continue\n",
    "            else:\n",
    "                # LONG\n",
    "                if ( r['high']>=r['EMA50'] and r['EMA50']>r['EMA100']\n",
    "                and p['MFI']<=45         and r['MFI']>=45\n",
    "                and r['MACD_hist']>0):\n",
    "                    entry, entry_t, side = r['close'], now, 'long'\n",
    "                    active=True\n",
    "                    risk = r['ATR_4h']*risk_th\n",
    "                    stop = entry-risk\n",
    "                    idx  = bisect_right(HT,entry_t)\n",
    "                    cand = HV[idx] if idx<len(HV) else entry+base_rr*risk\n",
    "                    tp   = cand if cand>entry else entry+base_rr*risk\n",
    "                    rr   = (tp-entry)/risk\n",
    "                \n",
    "                    # ❌ only go active if R:R > RR_MIN\n",
    "                    if rr <= rr_min:\n",
    "                        continue\n",
    "\n",
    "                    active = True\n",
    "\n",
    "                # SHORT\n",
    "                elif ( r['low']<=r['EMA50'] and r['EMA50']<r['EMA100']\n",
    "                    and p['MFI']>=55 and r['MFI']<=55\n",
    "                    and r['MACD_hist']<0):\n",
    "                    entry, entry_t, side = r['close'], now, 'short'\n",
    "                    active=True\n",
    "                    risk = r['ATR_4h']*risk_th\n",
    "                    stop = entry+risk\n",
    "                    idx  = bisect_right(LT,entry_t)\n",
    "                    cand = LV[idx] if idx<len(LV) else entry-risk*base_rr\n",
    "                    tp   = cand if cand<entry else entry-risk*base_rr\n",
    "                    rr   = abs((tp-entry)/risk)\n",
    "\n",
    "                    # ❌ only go active if R:R > 1\n",
    "                    if rr <= rr_min:\n",
    "                        continue\n",
    "                    \n",
    "                    active = True\n",
    "\n",
    "                else:\n",
    "                    continue\n",
    "\n",
    "        else:\n",
    "            lo, hi = r['low'], r['high']\n",
    "            if side=='long':\n",
    "                if lo<=stop: result,exit_price='loss',stop\n",
    "                elif hi>=tp:   result,exit_price='win', tp\n",
    "                else:          continue\n",
    "            else:\n",
    "                if hi>=stop:   result,exit_price='loss',stop\n",
    "                elif lo<=tp:   result,exit_price='win', tp\n",
    "                else:          continue\n",
    "\n",
    "            # pnl + fees\n",
    "            pnl_pct = ((exit_price-entry)/entry)*(1 if side=='long' else -1)*lev*100\n",
    "            pnl_usd = cap*pnl_pct/100\n",
    "            not_usd = cap*lev\n",
    "            qty     = safe_round(not_usd/entry,4)\n",
    "            fees    = qty*(entry+exit_price)*0.5*fee\n",
    "            net     = pnl_usd - fees\n",
    "\n",
    "            results.append({\n",
    "                'symbol':      symbol,\n",
    "                'side':        side,\n",
    "                'entry_time':  entry_t,\n",
    "                'exit_time':   now,\n",
    "                'entry_price': entry,\n",
    "                'stop_loss':   stop,\n",
    "                'take_profit': tp,\n",
    "                # 'exit_price':  exit_price,\n",
    "                # 'volume_$':    safe_round(not_usd,2),\n",
    "                # 'fees_$':      safe_round(fees,4),\n",
    "                # 'pnl_%':       safe_round(pnl_pct,2),\n",
    "                # 'pnl_$':       safe_round(pnl_usd,2),\n",
    "                # 'net_pnl_$':   safe_round(net,2),\n",
    "                'R:R':         safe_round(rr,2)\n",
    "            })\n",
    "            active=False\n",
    "        \n",
    "        if active: \n",
    "            pnl_pct = None\n",
    "            pnl_usd = None\n",
    "            not_usd = cap*lev\n",
    "            qty     = safe_round(not_usd/entry,4)\n",
    "            fees    = None\n",
    "            net     = None\n",
    "        \n",
    "            results.append({\n",
    "                'symbol':      symbol,\n",
    "                'side':        side,\n",
    "                'entry_time':  entry_t,\n",
    "                'exit_time':   None,\n",
    "                'entry_price': entry,\n",
    "                'stop_loss':   stop,\n",
    "                'take_profit': tp,\n",
    "                # 'exit_price':  None,\n",
    "                # 'volume_$':    safe_round(not_usd,2),\n",
    "                # 'fees_$':      safe_round(fees,4),\n",
    "                # 'pnl_%':       safe_round(pnl_pct,2),\n",
    "                # 'pnl_$':       safe_round(pnl_usd,2),\n",
    "                # 'net_pnl_$':   safe_round(net,2),\n",
    "                'R:R':         safe_round(rr,2)\n",
    "            })\n",
    "    \n",
    "        \n",
    "    # Build results DataFrame\n",
    "    result_df = pd.DataFrame(results)\n",
    "\n",
    "    # Keep only the final trade (or return an empty DataFrame if there were none)\n",
    "    result_df = result_df.tail(1).reset_index(drop=True)\n",
    "\n",
    "    return result_df\n"
   ]
  },
  {
   "cell_type": "code",
   "execution_count": 4,
   "id": "0193cdb8",
   "metadata": {
    "execution": {
     "iopub.execute_input": "2025-06-09T18:00:25.960936Z",
     "iopub.status.busy": "2025-06-09T18:00:25.960409Z",
     "iopub.status.idle": "2025-06-09T18:00:25.966836Z",
     "shell.execute_reply": "2025-06-09T18:00:25.965133Z"
    },
    "papermill": {
     "duration": 0.016591,
     "end_time": "2025-06-09T18:00:25.969558",
     "exception": false,
     "start_time": "2025-06-09T18:00:25.952967",
     "status": "completed"
    },
    "tags": []
   },
   "outputs": [],
   "source": [
    "# # ─── Block 3: scan each symbol and collect only still‐open trades ─────────────────\n",
    "# open_trades = []\n",
    "# i = 0 \n",
    "# for sym in symbols:\n",
    "#     i = i+1\n",
    "#     print(f\"▶ {i} scanning {sym}\")\n",
    "#     # run your backtest function, which must return a DataFrame `df_trades`\n",
    "#     # with at least these columns: entry_time, exit_time, …, net_pnl_$\n",
    "#     df_trades = scan_symbol(sym, start_ms, end_ms)\n",
    "\n",
    "#     # 1) skip if backtest gave you nothing at all\n",
    "#     if df_trades is None or df_trades.empty:\n",
    "#         continue\n",
    "\n",
    "#     # 2) if exit_time never made it into the DataFrame, skip\n",
    "#     if 'exit_time' not in df_trades.columns:\n",
    "#         print(f\"   ⚠️  '{sym}' returned no exit_time column, skipping\")\n",
    "#         continue\n",
    "\n",
    "#     # 3) find rows where exit_time is still NaT → these are your \"active\" orders\n",
    "#     still_open = df_trades[df_trades['exit_time'].isna()].copy()\n",
    "#     if still_open.empty:\n",
    "#         continue\n",
    "\n",
    "#     # 4) attach the symbol so we know which market\n",
    "#     still_open['symbol'] = sym\n",
    "#     open_trades.append(still_open)\n",
    "\n",
    "# # ─── at the end: display everything you found\n",
    "# if open_trades:\n",
    "#     print(\"\\n📋 Active orders:\")\n",
    "#     display(pd.concat(open_trades, ignore_index=True))\n",
    "# else:\n",
    "#     print(\"\\n✅ No active trades at the moment.\")\n"
   ]
  },
  {
   "cell_type": "code",
   "execution_count": 5,
   "id": "32ca335b",
   "metadata": {
    "execution": {
     "iopub.execute_input": "2025-06-09T18:00:26.198240Z",
     "iopub.status.busy": "2025-06-09T18:00:26.197633Z",
     "iopub.status.idle": "2025-06-09T18:00:26.204865Z",
     "shell.execute_reply": "2025-06-09T18:00:26.203441Z"
    },
    "papermill": {
     "duration": 0.234399,
     "end_time": "2025-06-09T18:00:26.206927",
     "exception": false,
     "start_time": "2025-06-09T18:00:25.972528",
     "status": "completed"
    },
    "tags": []
   },
   "outputs": [],
   "source": [
    "# # ─── Block 3: scan each symbol in parallel and collect only still-open trades ───────────\n",
    "# import pandas as pd\n",
    "# from concurrent.futures import ThreadPoolExecutor, as_completed\n",
    "\n",
    "# def _process_symbol(sym):\n",
    "#     \"\"\"Fetch & backtest one symbol; return only the still-open trade (or None).\"\"\"\n",
    "#     try:\n",
    "#         df_trades = scan_symbol(sym, start_ms, end_ms)\n",
    "#         # nothing returned or no exit_time column?\n",
    "#         if df_trades is None or df_trades.empty or 'exit_time' not in df_trades:\n",
    "#             return None\n",
    "#         # select rows where exit_time is NaT → active/open trades\n",
    "#         still_open = df_trades[df_trades['exit_time'].isna()].copy()\n",
    "#         if still_open.empty:\n",
    "#             return None\n",
    "#         still_open['symbol'] = sym\n",
    "#         return still_open\n",
    "#     except Exception as e:\n",
    "#         print(f\"⚠️ Error processing {sym}: {e}\")\n",
    "#         return None\n",
    "\n",
    "# open_trades = []\n",
    "# max_workers = 10  # tune this up/down for rate-limit comfort\n",
    "# with ThreadPoolExecutor(max_workers=max_workers) as executor:\n",
    "#     # submit all symbols at once\n",
    "#     futures = {executor.submit(_process_symbol, sym): sym for sym in symbols}\n",
    "#     for fut in as_completed(futures):\n",
    "#         res = fut.result()\n",
    "#         if res is not None:\n",
    "#             open_trades.append(res)\n",
    "\n",
    "# # final display\n",
    "# if open_trades:\n",
    "#     print(\"\\n📋 Active orders:\")\n",
    "#     display(pd.concat(open_trades, ignore_index=True))\n",
    "# else:\n",
    "#     print(\"\\n✅ No active trades at the moment.\")\n"
   ]
  },
  {
   "cell_type": "code",
   "execution_count": 6,
   "id": "7d9346d3",
   "metadata": {
    "execution": {
     "iopub.execute_input": "2025-06-09T18:00:26.217448Z",
     "iopub.status.busy": "2025-06-09T18:00:26.216787Z",
     "iopub.status.idle": "2025-06-09T18:04:54.703344Z",
     "shell.execute_reply": "2025-06-09T18:04:54.701402Z"
    },
    "papermill": {
     "duration": 268.496036,
     "end_time": "2025-06-09T18:04:54.706376",
     "exception": false,
     "start_time": "2025-06-09T18:00:26.210340",
     "status": "completed"
    },
    "tags": []
   },
   "outputs": [
    {
     "name": "stdout",
     "output_type": "stream",
     "text": [
      "▶ scanning BTC/USDT\n",
      "▶ scanning ALPACA/USDT\n",
      "▶ scanning SOL/USDT\n",
      "▶ scanning ETH/USDT\n",
      "▶ scanning XRP/USDT\n"
     ]
    },
    {
     "name": "stdout",
     "output_type": "stream",
     "text": [
      "  • fetched 864 bars → 2025-06-09 18:00:00 UTC\n"
     ]
    },
    {
     "name": "stdout",
     "output_type": "stream",
     "text": [
      "  • fetched 199 bars → 2025-06-09 16:00:00 UTC"
     ]
    },
    {
     "name": "stdout",
     "output_type": "stream",
     "text": [
      "\n",
      "  • fetched 864 bars → 2025-06-09 18:00:00 UTC\n"
     ]
    },
    {
     "name": "stdout",
     "output_type": "stream",
     "text": [
      "  • fetched 864 bars → 2025-06-09 18:00:00 UTC\n"
     ]
    },
    {
     "name": "stdout",
     "output_type": "stream",
     "text": [
      "  • fetched 199 bars → 2025-06-09 16:00:00 UTC\n"
     ]
    },
    {
     "name": "stdout",
     "output_type": "stream",
     "text": [
      "  • fetched 199 bars → 2025-06-09 16:00:00 UTC\n"
     ]
    },
    {
     "name": "stdout",
     "output_type": "stream",
     "text": [
      "  • fetched 864 bars → 2025-06-09 18:00:00 UTC\n"
     ]
    },
    {
     "name": "stdout",
     "output_type": "stream",
     "text": [
      "  • fetched 864 bars → 2025-06-09 18:00:00 UTC\n"
     ]
    },
    {
     "name": "stdout",
     "output_type": "stream",
     "text": [
      "  • fetched 199 bars → 2025-06-09 16:00:00 UTC\n"
     ]
    },
    {
     "name": "stdout",
     "output_type": "stream",
     "text": [
      "  • fetched 199 bars → 2025-06-09 16:00:00 UTC\n"
     ]
    },
    {
     "name": "stdout",
     "output_type": "stream",
     "text": [
      "▶ scanning 1000PEPE/USDT\n"
     ]
    },
    {
     "name": "stdout",
     "output_type": "stream",
     "text": [
      "  • fetched 864 bars → 2025-06-09 18:00:00 UTC\n"
     ]
    },
    {
     "name": "stdout",
     "output_type": "stream",
     "text": [
      "  • fetched 199 bars → 2025-06-09 16:00:00 UTC\n"
     ]
    },
    {
     "name": "stdout",
     "output_type": "stream",
     "text": [
      "▶ scanning DOGE/USDT\n"
     ]
    },
    {
     "name": "stdout",
     "output_type": "stream",
     "text": [
      "▶ scanning SUI/USDT\n"
     ]
    },
    {
     "name": "stdout",
     "output_type": "stream",
     "text": [
      "  • fetched 864 bars → 2025-06-09 18:00:00 UTC\n"
     ]
    },
    {
     "name": "stdout",
     "output_type": "stream",
     "text": [
      "  • fetched 864 bars → 2025-06-09 18:00:00 UTC\n",
      "  • fetched 199 bars → 2025-06-09 16:00:00 UTC\n"
     ]
    },
    {
     "name": "stdout",
     "output_type": "stream",
     "text": [
      "▶ scanning ANIME/USDT\n"
     ]
    },
    {
     "name": "stdout",
     "output_type": "stream",
     "text": [
      "  • fetched 199 bars → 2025-06-09 16:00:00 UTC\n"
     ]
    },
    {
     "name": "stdout",
     "output_type": "stream",
     "text": [
      "  • fetched 864 bars → 2025-06-09 18:00:00 UTC\n"
     ]
    },
    {
     "name": "stdout",
     "output_type": "stream",
     "text": [
      "  • fetched 199 bars → 2025-06-09 16:00:00 UTC\n"
     ]
    },
    {
     "name": "stdout",
     "output_type": "stream",
     "text": [
      "▶ scanning BID/USDT\n"
     ]
    },
    {
     "name": "stdout",
     "output_type": "stream",
     "text": [
      "  • fetched 864 bars → 2025-06-09 18:00:00 UTC\n"
     ]
    },
    {
     "name": "stdout",
     "output_type": "stream",
     "text": [
      "  • fetched 199 bars → 2025-06-09 16:00:00 UTC▶ scanning FARTCOIN/USDT\n",
      "\n"
     ]
    },
    {
     "name": "stdout",
     "output_type": "stream",
     "text": [
      "  • fetched 864 bars → 2025-06-09 18:00:00 UTC\n"
     ]
    },
    {
     "name": "stdout",
     "output_type": "stream",
     "text": [
      "  • fetched 199 bars → 2025-06-09 16:00:00 UTC\n"
     ]
    },
    {
     "name": "stdout",
     "output_type": "stream",
     "text": [
      "▶ scanning UMA/USDT\n",
      "▶ scanning BNX/USDT\n"
     ]
    },
    {
     "name": "stdout",
     "output_type": "stream",
     "text": [
      "  • fetched 864 bars → 2025-06-09 18:00:00 UTC\n"
     ]
    },
    {
     "name": "stdout",
     "output_type": "stream",
     "text": [
      "  • fetched 864 bars → 2025-06-09 18:00:00 UTC\n"
     ]
    },
    {
     "name": "stdout",
     "output_type": "stream",
     "text": [
      "▶ scanning WIF/USDT\n"
     ]
    },
    {
     "name": "stdout",
     "output_type": "stream",
     "text": [
      "  • fetched 864 bars → 2025-06-09 18:00:00 UTC\n"
     ]
    },
    {
     "name": "stdout",
     "output_type": "stream",
     "text": [
      "  • fetched 199 bars → 2025-06-09 16:00:00 UTC\n"
     ]
    },
    {
     "name": "stdout",
     "output_type": "stream",
     "text": [
      "  • fetched 199 bars → 2025-06-09 16:00:00 UTC\n",
      "  • fetched 199 bars → 2025-06-09 16:00:00 UTC\n"
     ]
    },
    {
     "name": "stdout",
     "output_type": "stream",
     "text": [
      "▶ scanning RVN/USDT\n"
     ]
    },
    {
     "name": "stdout",
     "output_type": "stream",
     "text": [
      "▶ scanning LA/USDT\n"
     ]
    },
    {
     "name": "stdout",
     "output_type": "stream",
     "text": [
      "  • fetched 864 bars → 2025-06-09 18:00:00 UTC\n"
     ]
    },
    {
     "name": "stdout",
     "output_type": "stream",
     "text": [
      "  • fetched 421 bars → 2025-06-09 18:00:00 UTC\n",
      "▶ scanning ADA/USDT\n"
     ]
    },
    {
     "name": "stdout",
     "output_type": "stream",
     "text": [
      "  • fetched 864 bars → 2025-06-09 18:00:00 UTC\n"
     ]
    },
    {
     "name": "stdout",
     "output_type": "stream",
     "text": [
      "  • fetched 199 bars → 2025-06-09 16:00:00 UTC\n"
     ]
    },
    {
     "name": "stdout",
     "output_type": "stream",
     "text": [
      "  • fetched 27 bars → 2025-06-09 16:00:00 UTC\n",
      "    ⚠️ ADX calculation failed for LA/USDT: index 14 is out of bounds for axis 0 with size 14. Zero-filling it.\n"
     ]
    },
    {
     "name": "stdout",
     "output_type": "stream",
     "text": [
      "  • fetched 199 bars → 2025-06-09 16:00:00 UTC\n"
     ]
    },
    {
     "name": "stdout",
     "output_type": "stream",
     "text": [
      "▶ scanning MASK/USDT\n"
     ]
    },
    {
     "name": "stdout",
     "output_type": "stream",
     "text": [
      "  • fetched 864 bars → 2025-06-09 18:00:00 UTC\n"
     ]
    },
    {
     "name": "stdout",
     "output_type": "stream",
     "text": [
      "  • fetched 199 bars → 2025-06-09 16:00:00 UTC\n"
     ]
    },
    {
     "name": "stdout",
     "output_type": "stream",
     "text": [
      "▶ scanning AVAX/USDT\n",
      "▶ scanning HUMA/USDT\n"
     ]
    },
    {
     "name": "stdout",
     "output_type": "stream",
     "text": [
      "  • fetched 864 bars → 2025-06-09 18:00:00 UTC\n",
      "  • fetched 864 bars → 2025-06-09 18:00:00 UTC\n"
     ]
    },
    {
     "name": "stdout",
     "output_type": "stream",
     "text": [
      "  • fetched 199 bars → 2025-06-09 16:00:00 UTC\n"
     ]
    },
    {
     "name": "stdout",
     "output_type": "stream",
     "text": [
      "  • fetched 86 bars → 2025-06-09 16:00:00 UTC\n"
     ]
    },
    {
     "name": "stdout",
     "output_type": "stream",
     "text": [
      "▶ scanning HMSTR/USDT\n"
     ]
    },
    {
     "name": "stdout",
     "output_type": "stream",
     "text": [
      "▶ scanning ENA/USDT"
     ]
    },
    {
     "name": "stdout",
     "output_type": "stream",
     "text": [
      "\n",
      "  • fetched 864 bars → 2025-06-09 18:00:00 UTC\n"
     ]
    },
    {
     "name": "stdout",
     "output_type": "stream",
     "text": [
      "  • fetched 864 bars → 2025-06-09 18:00:00 UTC\n"
     ]
    },
    {
     "name": "stdout",
     "output_type": "stream",
     "text": [
      "  • fetched 199 bars → 2025-06-09 16:00:00 UTC\n"
     ]
    },
    {
     "name": "stdout",
     "output_type": "stream",
     "text": [
      "  • fetched 199 bars → 2025-06-09 16:00:00 UTC\n",
      "▶ scanning AAVE/USDT\n"
     ]
    },
    {
     "name": "stdout",
     "output_type": "stream",
     "text": [
      "  • fetched 864 bars → 2025-06-09 18:00:00 UTC\n"
     ]
    },
    {
     "name": "stdout",
     "output_type": "stream",
     "text": [
      "  • fetched 199 bars → 2025-06-09 16:00:00 UTC\n",
      "▶ scanning BNB/USDT\n"
     ]
    },
    {
     "name": "stdout",
     "output_type": "stream",
     "text": [
      "  • fetched 864 bars → 2025-06-09 18:00:00 UTC\n"
     ]
    },
    {
     "name": "stdout",
     "output_type": "stream",
     "text": [
      "  • fetched 199 bars → 2025-06-09 16:00:00 UTC\n"
     ]
    },
    {
     "name": "stdout",
     "output_type": "stream",
     "text": [
      "▶ scanning HYPE/USDT\n"
     ]
    },
    {
     "name": "stdout",
     "output_type": "stream",
     "text": [
      "  • fetched 864 bars → 2025-06-09 18:00:00 UTC\n"
     ]
    },
    {
     "name": "stdout",
     "output_type": "stream",
     "text": [
      "  • fetched 63 bars → 2025-06-09 16:00:00 UTC\n"
     ]
    },
    {
     "name": "stdout",
     "output_type": "stream",
     "text": [
      "▶ scanning VIRTUAL/USDT\n"
     ]
    },
    {
     "name": "stdout",
     "output_type": "stream",
     "text": [
      "  • fetched 864 bars → 2025-06-09 18:00:00 UTC▶ scanning TRUMP/USDT\n",
      "\n"
     ]
    },
    {
     "name": "stdout",
     "output_type": "stream",
     "text": [
      "▶ scanning LINK/USDT  • fetched 199 bars → 2025-06-09 16:00:00 UTC\n",
      "\n"
     ]
    },
    {
     "name": "stdout",
     "output_type": "stream",
     "text": [
      "  • fetched 864 bars → 2025-06-09 18:00:00 UTC\n"
     ]
    },
    {
     "name": "stdout",
     "output_type": "stream",
     "text": [
      "▶ scanning KAIA/USDT\n",
      "  • fetched 864 bars → 2025-06-09 18:00:00 UTC\n",
      "  • fetched 199 bars → 2025-06-09 16:00:00 UTC\n"
     ]
    },
    {
     "name": "stdout",
     "output_type": "stream",
     "text": [
      "  • fetched 199 bars → 2025-06-09 16:00:00 UTC\n"
     ]
    },
    {
     "name": "stdout",
     "output_type": "stream",
     "text": [
      "  • fetched 864 bars → 2025-06-09 18:00:00 UTC\n"
     ]
    },
    {
     "name": "stdout",
     "output_type": "stream",
     "text": [
      "  • fetched 199 bars → 2025-06-09 16:00:00 UTC\n"
     ]
    },
    {
     "name": "stdout",
     "output_type": "stream",
     "text": [
      "▶ scanning DEXE/USDT\n"
     ]
    },
    {
     "name": "stdout",
     "output_type": "stream",
     "text": [
      "  • fetched 864 bars → 2025-06-09 18:00:00 UTC\n"
     ]
    },
    {
     "name": "stdout",
     "output_type": "stream",
     "text": [
      "  • fetched 199 bars → 2025-06-09 16:00:00 UTC\n"
     ]
    },
    {
     "name": "stdout",
     "output_type": "stream",
     "text": [
      "▶ scanning SPX/USDT\n"
     ]
    },
    {
     "name": "stdout",
     "output_type": "stream",
     "text": [
      "  • fetched 864 bars → 2025-06-09 18:00:00 UTC\n"
     ]
    },
    {
     "name": "stdout",
     "output_type": "stream",
     "text": [
      "  • fetched 199 bars → 2025-06-09 16:00:00 UTC\n"
     ]
    },
    {
     "name": "stdout",
     "output_type": "stream",
     "text": [
      "▶ scanning LPT/USDT\n"
     ]
    },
    {
     "name": "stdout",
     "output_type": "stream",
     "text": [
      "  • fetched 864 bars → 2025-06-09 18:00:00 UTC\n"
     ]
    },
    {
     "name": "stdout",
     "output_type": "stream",
     "text": [
      "  • fetched 199 bars → 2025-06-09 16:00:00 UTC\n"
     ]
    },
    {
     "name": "stdout",
     "output_type": "stream",
     "text": [
      "▶ scanning TRB/USDT\n"
     ]
    },
    {
     "name": "stdout",
     "output_type": "stream",
     "text": [
      "▶ scanning WLD/USDT\n"
     ]
    },
    {
     "name": "stdout",
     "output_type": "stream",
     "text": [
      "  • fetched 864 bars → 2025-06-09 18:00:00 UTC\n"
     ]
    },
    {
     "name": "stdout",
     "output_type": "stream",
     "text": [
      "  • fetched 864 bars → 2025-06-09 18:00:00 UTC\n"
     ]
    },
    {
     "name": "stdout",
     "output_type": "stream",
     "text": [
      "  • fetched 199 bars → 2025-06-09 16:00:00 UTC\n"
     ]
    },
    {
     "name": "stdout",
     "output_type": "stream",
     "text": [
      "  • fetched 199 bars → 2025-06-09 16:00:00 UTC\n"
     ]
    },
    {
     "name": "stdout",
     "output_type": "stream",
     "text": [
      "▶ scanning UNI/USDT\n"
     ]
    },
    {
     "name": "stdout",
     "output_type": "stream",
     "text": [
      "  • fetched 864 bars → 2025-06-09 18:00:00 UTC\n"
     ]
    },
    {
     "name": "stdout",
     "output_type": "stream",
     "text": [
      "  • fetched 199 bars → 2025-06-09 16:00:00 UTC\n",
      "▶ scanning MOODENG/USDT\n"
     ]
    },
    {
     "name": "stdout",
     "output_type": "stream",
     "text": [
      "  • fetched 864 bars → 2025-06-09 18:00:00 UTC\n"
     ]
    },
    {
     "name": "stdout",
     "output_type": "stream",
     "text": [
      "  • fetched 199 bars → 2025-06-09 16:00:00 UTC\n"
     ]
    },
    {
     "name": "stdout",
     "output_type": "stream",
     "text": [
      "▶ scanning TAO/USDT\n"
     ]
    },
    {
     "name": "stdout",
     "output_type": "stream",
     "text": [
      "  • fetched 864 bars → 2025-06-09 18:00:00 UTC\n"
     ]
    },
    {
     "name": "stdout",
     "output_type": "stream",
     "text": [
      "  • fetched 199 bars → 2025-06-09 16:00:00 UTC\n"
     ]
    },
    {
     "name": "stdout",
     "output_type": "stream",
     "text": [
      "▶ scanning ICP/USDT\n",
      "▶ scanning LTC/USDT\n"
     ]
    },
    {
     "name": "stdout",
     "output_type": "stream",
     "text": [
      "  • fetched 864 bars → 2025-06-09 18:00:00 UTC\n"
     ]
    },
    {
     "name": "stdout",
     "output_type": "stream",
     "text": [
      "  • fetched 864 bars → 2025-06-09 18:00:00 UTC\n"
     ]
    },
    {
     "name": "stdout",
     "output_type": "stream",
     "text": [
      "  • fetched 199 bars → 2025-06-09 16:00:00 UTC\n"
     ]
    },
    {
     "name": "stdout",
     "output_type": "stream",
     "text": [
      "  • fetched 199 bars → 2025-06-09 16:00:00 UTC\n"
     ]
    },
    {
     "name": "stdout",
     "output_type": "stream",
     "text": [
      "▶ scanning VVV/USDT\n",
      "▶ scanning COOKIE/USDT\n"
     ]
    },
    {
     "name": "stdout",
     "output_type": "stream",
     "text": [
      "  • fetched 864 bars → 2025-06-09 18:00:00 UTC\n"
     ]
    },
    {
     "name": "stdout",
     "output_type": "stream",
     "text": [
      "  • fetched 864 bars → 2025-06-09 18:00:00 UTC\n",
      "  • fetched 199 bars → 2025-06-09 16:00:00 UTC\n"
     ]
    },
    {
     "name": "stdout",
     "output_type": "stream",
     "text": [
      "  • fetched 199 bars → 2025-06-09 16:00:00 UTC\n"
     ]
    },
    {
     "name": "stdout",
     "output_type": "stream",
     "text": [
      "▶ scanning BCH/USDT▶ scanning VIDT/USDT\n",
      "\n"
     ]
    },
    {
     "name": "stdout",
     "output_type": "stream",
     "text": [
      "  • fetched 864 bars → 2025-06-09 18:00:00 UTC"
     ]
    },
    {
     "name": "stdout",
     "output_type": "stream",
     "text": [
      "\n"
     ]
    },
    {
     "name": "stdout",
     "output_type": "stream",
     "text": [
      "  • fetched 199 bars → 2025-06-09 16:00:00 UTC\n",
      "  • fetched 864 bars → 2025-06-09 18:00:00 UTC\n"
     ]
    },
    {
     "name": "stdout",
     "output_type": "stream",
     "text": [
      "  • fetched 199 bars → 2025-06-09 16:00:00 UTC\n"
     ]
    },
    {
     "name": "stdout",
     "output_type": "stream",
     "text": [
      "▶ scanning OP/USDT\n"
     ]
    },
    {
     "name": "stdout",
     "output_type": "stream",
     "text": [
      "  • fetched 864 bars → 2025-06-09 18:00:00 UTC\n"
     ]
    },
    {
     "name": "stdout",
     "output_type": "stream",
     "text": [
      "▶ scanning AGIX/USDT\n"
     ]
    },
    {
     "name": "stdout",
     "output_type": "stream",
     "text": [
      "  • fetched 199 bars → 2025-06-09 16:00:00 UTC\n"
     ]
    },
    {
     "name": "stdout",
     "output_type": "stream",
     "text": [
      "  • fetched 864 bars → 2025-06-09 18:00:00 UTC\n"
     ]
    },
    {
     "name": "stdout",
     "output_type": "stream",
     "text": [
      "▶ scanning DOT/USDT\n",
      "▶ scanning NXPC/USDT\n"
     ]
    },
    {
     "name": "stdout",
     "output_type": "stream",
     "text": [
      "  • fetched 864 bars → 2025-06-09 18:00:00 UTC\n",
      "  • fetched 199 bars → 2025-06-09 16:00:00 UTC\n"
     ]
    },
    {
     "name": "stdout",
     "output_type": "stream",
     "text": [
      "  • fetched 199 bars → 2025-06-09 16:00:00 UTC\n"
     ]
    },
    {
     "name": "stdout",
     "output_type": "stream",
     "text": [
      "  • fetched 864 bars → 2025-06-09 18:00:00 UTC\n"
     ]
    },
    {
     "name": "stdout",
     "output_type": "stream",
     "text": [
      "  • fetched 154 bars → 2025-06-09 16:00:00 UTC\n"
     ]
    },
    {
     "name": "stdout",
     "output_type": "stream",
     "text": [
      "▶ scanning PNUT/USDT\n"
     ]
    },
    {
     "name": "stdout",
     "output_type": "stream",
     "text": [
      "  • fetched 864 bars → 2025-06-09 18:00:00 UTC\n"
     ]
    },
    {
     "name": "stdout",
     "output_type": "stream",
     "text": [
      "  • fetched 199 bars → 2025-06-09 16:00:00 UTC\n"
     ]
    },
    {
     "name": "stdout",
     "output_type": "stream",
     "text": [
      "▶ scanning KAITO/USDT\n"
     ]
    },
    {
     "name": "stdout",
     "output_type": "stream",
     "text": [
      "  • fetched 864 bars → 2025-06-09 18:00:00 UTC\n"
     ]
    },
    {
     "name": "stdout",
     "output_type": "stream",
     "text": [
      "▶ scanning NEIRO/USDT\n",
      "  • fetched 199 bars → 2025-06-09 16:00:00 UTC\n"
     ]
    },
    {
     "name": "stdout",
     "output_type": "stream",
     "text": [
      "  • fetched 864 bars → 2025-06-09 18:00:00 UTC\n"
     ]
    },
    {
     "name": "stdout",
     "output_type": "stream",
     "text": [
      "  • fetched 199 bars → 2025-06-09 16:00:00 UTC\n"
     ]
    },
    {
     "name": "stdout",
     "output_type": "stream",
     "text": [
      "▶ scanning CRV/USDT\n"
     ]
    },
    {
     "name": "stdout",
     "output_type": "stream",
     "text": [
      "  • fetched 864 bars → 2025-06-09 18:00:00 UTC\n"
     ]
    },
    {
     "name": "stdout",
     "output_type": "stream",
     "text": [
      "  • fetched 199 bars → 2025-06-09 16:00:00 UTC\n"
     ]
    },
    {
     "name": "stdout",
     "output_type": "stream",
     "text": [
      "▶ scanning SOPH/USDT\n"
     ]
    },
    {
     "name": "stdout",
     "output_type": "stream",
     "text": [
      "  • fetched 864 bars → 2025-06-09 18:00:00 UTC\n"
     ]
    },
    {
     "name": "stdout",
     "output_type": "stream",
     "text": [
      "▶ scanning FET/USDT\n"
     ]
    },
    {
     "name": "stdout",
     "output_type": "stream",
     "text": [
      "  • fetched 864 bars → 2025-06-09 18:00:00 UTC\n",
      "  • fetched 74 bars → 2025-06-09 16:00:00 UTC\n"
     ]
    },
    {
     "name": "stdout",
     "output_type": "stream",
     "text": [
      "  • fetched 199 bars → 2025-06-09 16:00:00 UTC\n"
     ]
    },
    {
     "name": "stdout",
     "output_type": "stream",
     "text": [
      "▶ scanning INJ/USDT\n"
     ]
    },
    {
     "name": "stdout",
     "output_type": "stream",
     "text": [
      "▶ scanning WCT/USDT\n"
     ]
    },
    {
     "name": "stdout",
     "output_type": "stream",
     "text": [
      "  • fetched 864 bars → 2025-06-09 18:00:00 UTC\n"
     ]
    },
    {
     "name": "stdout",
     "output_type": "stream",
     "text": [
      "  • fetched 864 bars → 2025-06-09 18:00:00 UTC\n"
     ]
    },
    {
     "name": "stdout",
     "output_type": "stream",
     "text": [
      "  • fetched 199 bars → 2025-06-09 16:00:00 UTC\n"
     ]
    },
    {
     "name": "stdout",
     "output_type": "stream",
     "text": [
      "  • fetched 199 bars → 2025-06-09 16:00:00 UTC\n"
     ]
    },
    {
     "name": "stdout",
     "output_type": "stream",
     "text": [
      "▶ scanning ETHFI/USDT\n"
     ]
    },
    {
     "name": "stdout",
     "output_type": "stream",
     "text": [
      "  • fetched 864 bars → 2025-06-09 18:00:00 UTC\n"
     ]
    },
    {
     "name": "stdout",
     "output_type": "stream",
     "text": [
      "▶ scanning SHELL/USDT  • fetched 199 bars → 2025-06-09 16:00:00 UTC\n",
      "\n"
     ]
    },
    {
     "name": "stdout",
     "output_type": "stream",
     "text": [
      "▶ scanning SKATE/USDT\n"
     ]
    },
    {
     "name": "stdout",
     "output_type": "stream",
     "text": [
      "  • fetched 31 bars → 2025-06-09 18:00:00 UTC  • fetched 864 bars → 2025-06-09 18:00:00 UTC\n",
      "\n"
     ]
    },
    {
     "name": "stdout",
     "output_type": "stream",
     "text": [
      "  • fetched 199 bars → 2025-06-09 16:00:00 UTC\n"
     ]
    },
    {
     "name": "stdout",
     "output_type": "stream",
     "text": [
      "  • fetched 3 bars → 2025-06-09 16:00:00 UTC\n"
     ]
    },
    {
     "name": "stdout",
     "output_type": "stream",
     "text": [
      "▶ scanning FIL/USDT\n"
     ]
    },
    {
     "name": "stdout",
     "output_type": "stream",
     "text": [
      "▶ scanning TRX/USDT\n",
      "  • fetched 864 bars → 2025-06-09 18:00:00 UTC\n"
     ]
    },
    {
     "name": "stdout",
     "output_type": "stream",
     "text": [
      "▶ scanning NEAR/USDT\n"
     ]
    },
    {
     "name": "stdout",
     "output_type": "stream",
     "text": [
      "  • fetched 864 bars → 2025-06-09 18:00:00 UTC\n"
     ]
    },
    {
     "name": "stdout",
     "output_type": "stream",
     "text": [
      "  • fetched 199 bars → 2025-06-09 16:00:00 UTC\n"
     ]
    },
    {
     "name": "stdout",
     "output_type": "stream",
     "text": [
      "  • fetched 864 bars → 2025-06-09 18:00:00 UTC\n",
      "  • fetched 199 bars → 2025-06-09 16:00:00 UTC\n"
     ]
    },
    {
     "name": "stdout",
     "output_type": "stream",
     "text": [
      "  • fetched 199 bars → 2025-06-09 16:00:00 UTC\n"
     ]
    },
    {
     "name": "stdout",
     "output_type": "stream",
     "text": [
      "▶ scanning LINA/USDT\n"
     ]
    },
    {
     "name": "stdout",
     "output_type": "stream",
     "text": [
      "  • fetched 864 bars → 2025-06-09 18:00:00 UTC\n",
      "▶ scanning TIA/USDT\n"
     ]
    },
    {
     "name": "stdout",
     "output_type": "stream",
     "text": [
      "  • fetched 864 bars → 2025-06-09 18:00:00 UTC\n",
      "  • fetched 199 bars → 2025-06-09 16:00:00 UTC\n"
     ]
    },
    {
     "name": "stdout",
     "output_type": "stream",
     "text": [
      "  • fetched 199 bars → 2025-06-09 16:00:00 UTC\n"
     ]
    },
    {
     "name": "stdout",
     "output_type": "stream",
     "text": [
      "▶ scanning POPCAT/USDT\n"
     ]
    },
    {
     "name": "stdout",
     "output_type": "stream",
     "text": [
      "  • fetched 864 bars → 2025-06-09 18:00:00 UTC\n",
      "▶ scanning TON/USDT\n"
     ]
    },
    {
     "name": "stdout",
     "output_type": "stream",
     "text": [
      "  • fetched 199 bars → 2025-06-09 16:00:00 UTC\n"
     ]
    },
    {
     "name": "stdout",
     "output_type": "stream",
     "text": [
      "  • fetched 864 bars → 2025-06-09 18:00:00 UTC▶ scanning 1000SHIB/USDT\n",
      "\n"
     ]
    },
    {
     "name": "stdout",
     "output_type": "stream",
     "text": [
      "  • fetched 864 bars → 2025-06-09 18:00:00 UTC\n",
      "  • fetched 199 bars → 2025-06-09 16:00:00 UTC\n"
     ]
    },
    {
     "name": "stdout",
     "output_type": "stream",
     "text": [
      "  • fetched 199 bars → 2025-06-09 16:00:00 UTC\n"
     ]
    },
    {
     "name": "stdout",
     "output_type": "stream",
     "text": [
      "▶ scanning FTM/USDT\n"
     ]
    },
    {
     "name": "stdout",
     "output_type": "stream",
     "text": [
      "  • fetched 864 bars → 2025-06-09 18:00:00 UTC\n"
     ]
    },
    {
     "name": "stdout",
     "output_type": "stream",
     "text": [
      "  • fetched 199 bars → 2025-06-09 16:00:00 UTC\n"
     ]
    },
    {
     "name": "stdout",
     "output_type": "stream",
     "text": [
      "▶ scanning WAVES/USDT\n"
     ]
    },
    {
     "name": "stdout",
     "output_type": "stream",
     "text": [
      "  • fetched 864 bars → 2025-06-09 18:00:00 UTC\n"
     ]
    },
    {
     "name": "stdout",
     "output_type": "stream",
     "text": [
      "▶ scanning AIXBT/USDT\n",
      "  • fetched 199 bars → 2025-06-09 16:00:00 UTC\n"
     ]
    },
    {
     "name": "stdout",
     "output_type": "stream",
     "text": [
      "  • fetched 864 bars → 2025-06-09 18:00:00 UTC"
     ]
    },
    {
     "name": "stdout",
     "output_type": "stream",
     "text": [
      "\n",
      "▶ scanning 1000BONK/USDT\n"
     ]
    },
    {
     "name": "stdout",
     "output_type": "stream",
     "text": [
      "▶ scanning AMB/USDT\n"
     ]
    },
    {
     "name": "stdout",
     "output_type": "stream",
     "text": [
      "  • fetched 864 bars → 2025-06-09 18:00:00 UTC\n"
     ]
    },
    {
     "name": "stdout",
     "output_type": "stream",
     "text": [
      "  • fetched 199 bars → 2025-06-09 16:00:00 UTC\n",
      "  • fetched 864 bars → 2025-06-09 18:00:00 UTC\n",
      "▶ scanning ONDO/USDT\n"
     ]
    },
    {
     "name": "stdout",
     "output_type": "stream",
     "text": [
      "  • fetched 199 bars → 2025-06-09 16:00:00 UTC\n",
      "  • fetched 864 bars → 2025-06-09 18:00:00 UTC\n",
      "  • fetched 199 bars → 2025-06-09 16:00:00 UTC\n"
     ]
    },
    {
     "name": "stdout",
     "output_type": "stream",
     "text": [
      "  • fetched 199 bars → 2025-06-09 16:00:00 UTC\n"
     ]
    },
    {
     "name": "stdout",
     "output_type": "stream",
     "text": [
      "▶ scanning OCEAN/USDT\n",
      "▶ scanning B/USDT\n"
     ]
    },
    {
     "name": "stdout",
     "output_type": "stream",
     "text": [
      "  • fetched 864 bars → 2025-06-09 18:00:00 UTC\n"
     ]
    },
    {
     "name": "stdout",
     "output_type": "stream",
     "text": [
      "  • fetched 864 bars → 2025-06-09 18:00:00 UTC\n"
     ]
    },
    {
     "name": "stdout",
     "output_type": "stream",
     "text": [
      "  • fetched 199 bars → 2025-06-09 16:00:00 UTC\n"
     ]
    },
    {
     "name": "stdout",
     "output_type": "stream",
     "text": [
      "  • fetched 109 bars → 2025-06-09 16:00:00 UTC\n"
     ]
    },
    {
     "name": "stdout",
     "output_type": "stream",
     "text": [
      "▶ scanning GUN/USDT\n"
     ]
    },
    {
     "name": "stdout",
     "output_type": "stream",
     "text": [
      "  • fetched 864 bars → 2025-06-09 18:00:00 UTC\n"
     ]
    },
    {
     "name": "stdout",
     "output_type": "stream",
     "text": [
      "▶ scanning ICX/USDT\n",
      "  • fetched 199 bars → 2025-06-09 16:00:00 UTC\n"
     ]
    },
    {
     "name": "stdout",
     "output_type": "stream",
     "text": [
      "  • fetched 864 bars → 2025-06-09 18:00:00 UTC"
     ]
    },
    {
     "name": "stdout",
     "output_type": "stream",
     "text": [
      "\n"
     ]
    },
    {
     "name": "stdout",
     "output_type": "stream",
     "text": [
      "▶ scanning EIGEN/USDT\n"
     ]
    },
    {
     "name": "stdout",
     "output_type": "stream",
     "text": [
      "  • fetched 199 bars → 2025-06-09 16:00:00 UTC▶ scanning ARB/USDT\n",
      "  • fetched 864 bars → 2025-06-09 18:00:00 UTC\n",
      "\n"
     ]
    },
    {
     "name": "stdout",
     "output_type": "stream",
     "text": [
      "  • fetched 864 bars → 2025-06-09 18:00:00 UTC\n",
      "  • fetched 199 bars → 2025-06-09 16:00:00 UTC\n"
     ]
    },
    {
     "name": "stdout",
     "output_type": "stream",
     "text": [
      "  • fetched 199 bars → 2025-06-09 16:00:00 UTC\n"
     ]
    },
    {
     "name": "stdout",
     "output_type": "stream",
     "text": [
      "▶ scanning LDO/USDT\n"
     ]
    },
    {
     "name": "stdout",
     "output_type": "stream",
     "text": [
      "  • fetched 864 bars → 2025-06-09 18:00:00 UTC\n"
     ]
    },
    {
     "name": "stdout",
     "output_type": "stream",
     "text": [
      "  • fetched 199 bars → 2025-06-09 16:00:00 UTC\n"
     ]
    },
    {
     "name": "stdout",
     "output_type": "stream",
     "text": [
      "▶ scanning STRAX/USDT\n"
     ]
    },
    {
     "name": "stdout",
     "output_type": "stream",
     "text": [
      "▶ scanning AI16Z/USDT  • fetched 864 bars → 2025-06-09 18:00:00 UTC\n",
      "\n"
     ]
    },
    {
     "name": "stdout",
     "output_type": "stream",
     "text": [
      "▶ scanning REN/USDT\n"
     ]
    },
    {
     "name": "stdout",
     "output_type": "stream",
     "text": [
      "  • fetched 864 bars → 2025-06-09 18:00:00 UTC\n",
      "  • fetched 199 bars → 2025-06-09 16:00:00 UTC\n"
     ]
    },
    {
     "name": "stdout",
     "output_type": "stream",
     "text": [
      "  • fetched 864 bars → 2025-06-09 18:00:00 UTC\n"
     ]
    },
    {
     "name": "stdout",
     "output_type": "stream",
     "text": [
      "  • fetched 199 bars → 2025-06-09 16:00:00 UTC\n"
     ]
    },
    {
     "name": "stdout",
     "output_type": "stream",
     "text": [
      "  • fetched 199 bars → 2025-06-09 16:00:00 UTC\n"
     ]
    },
    {
     "name": "stdout",
     "output_type": "stream",
     "text": [
      "▶ scanning XLM/USDT\n"
     ]
    },
    {
     "name": "stdout",
     "output_type": "stream",
     "text": [
      "▶ scanning UNFI/USDT\n"
     ]
    },
    {
     "name": "stdout",
     "output_type": "stream",
     "text": [
      "  • fetched 864 bars → 2025-06-09 18:00:00 UTC\n"
     ]
    },
    {
     "name": "stdout",
     "output_type": "stream",
     "text": [
      "  • fetched 864 bars → 2025-06-09 18:00:00 UTC\n",
      "  • fetched 199 bars → 2025-06-09 16:00:00 UTC\n"
     ]
    },
    {
     "name": "stdout",
     "output_type": "stream",
     "text": [
      "  • fetched 199 bars → 2025-06-09 16:00:00 UTC▶ scanning ETC/USDT\n",
      "\n"
     ]
    },
    {
     "name": "stdout",
     "output_type": "stream",
     "text": [
      "▶ scanning TUT/USDT"
     ]
    },
    {
     "name": "stdout",
     "output_type": "stream",
     "text": [
      "\n",
      "  • fetched 864 bars → 2025-06-09 18:00:00 UTC\n"
     ]
    },
    {
     "name": "stdout",
     "output_type": "stream",
     "text": [
      "  • fetched 864 bars → 2025-06-09 18:00:00 UTC\n"
     ]
    },
    {
     "name": "stdout",
     "output_type": "stream",
     "text": [
      "  • fetched 199 bars → 2025-06-09 16:00:00 UTC\n"
     ]
    },
    {
     "name": "stdout",
     "output_type": "stream",
     "text": [
      "  • fetched 199 bars → 2025-06-09 16:00:00 UTC"
     ]
    },
    {
     "name": "stdout",
     "output_type": "stream",
     "text": [
      "\n",
      "▶ scanning HBAR/USDT\n"
     ]
    },
    {
     "name": "stdout",
     "output_type": "stream",
     "text": [
      "▶ scanning SYRUP/USDT\n",
      "  • fetched 864 bars → 2025-06-09 18:00:00 UTC\n"
     ]
    },
    {
     "name": "stdout",
     "output_type": "stream",
     "text": [
      "  • fetched 199 bars → 2025-06-09 16:00:00 UTC\n",
      "  • fetched 864 bars → 2025-06-09 18:00:00 UTC\n"
     ]
    },
    {
     "name": "stdout",
     "output_type": "stream",
     "text": [
      "  • fetched 199 bars → 2025-06-09 16:00:00 UTC\n"
     ]
    },
    {
     "name": "stdout",
     "output_type": "stream",
     "text": [
      "▶ scanning CHESS/USDT\n"
     ]
    },
    {
     "name": "stdout",
     "output_type": "stream",
     "text": [
      "▶ scanning MKR/USDT\n"
     ]
    },
    {
     "name": "stdout",
     "output_type": "stream",
     "text": [
      "  • fetched 864 bars → 2025-06-09 18:00:00 UTC\n"
     ]
    },
    {
     "name": "stdout",
     "output_type": "stream",
     "text": [
      "▶ scanning APE/USDT\n",
      "  • fetched 199 bars → 2025-06-09 16:00:00 UTC\n",
      "  • fetched 864 bars → 2025-06-09 18:00:00 UTC\n"
     ]
    },
    {
     "name": "stdout",
     "output_type": "stream",
     "text": [
      "  • fetched 864 bars → 2025-06-09 18:00:00 UTC"
     ]
    },
    {
     "name": "stdout",
     "output_type": "stream",
     "text": [
      "  • fetched 199 bars → 2025-06-09 16:00:00 UTC\n",
      "\n"
     ]
    },
    {
     "name": "stdout",
     "output_type": "stream",
     "text": [
      "  • fetched 199 bars → 2025-06-09 16:00:00 UTC\n"
     ]
    },
    {
     "name": "stdout",
     "output_type": "stream",
     "text": [
      "▶ scanning DGB/USDT"
     ]
    },
    {
     "name": "stdout",
     "output_type": "stream",
     "text": [
      "\n"
     ]
    },
    {
     "name": "stdout",
     "output_type": "stream",
     "text": [
      "▶ scanning JUP/USDT\n",
      "  • fetched 864 bars → 2025-06-09 18:00:00 UTC\n"
     ]
    },
    {
     "name": "stdout",
     "output_type": "stream",
     "text": [
      "  • fetched 864 bars → 2025-06-09 18:00:00 UTC\n"
     ]
    },
    {
     "name": "stdout",
     "output_type": "stream",
     "text": [
      "  • fetched 199 bars → 2025-06-09 16:00:00 UTC\n"
     ]
    },
    {
     "name": "stdout",
     "output_type": "stream",
     "text": [
      "  • fetched 199 bars → 2025-06-09 16:00:00 UTC\n"
     ]
    },
    {
     "name": "stdout",
     "output_type": "stream",
     "text": [
      "▶ scanning TROY/USDT\n"
     ]
    },
    {
     "name": "stdout",
     "output_type": "stream",
     "text": [
      "▶ scanning ORDI/USDT\n",
      "  • fetched 864 bars → 2025-06-09 18:00:00 UTC\n"
     ]
    },
    {
     "name": "stdout",
     "output_type": "stream",
     "text": [
      "  • fetched 864 bars → 2025-06-09 18:00:00 UTC"
     ]
    },
    {
     "name": "stdout",
     "output_type": "stream",
     "text": [
      "\n",
      "  • fetched 199 bars → 2025-06-09 16:00:00 UTC\n",
      "  • fetched 199 bars → 2025-06-09 16:00:00 UTC\n"
     ]
    },
    {
     "name": "stdout",
     "output_type": "stream",
     "text": [
      "▶ scanning PENGU/USDT\n",
      "▶ scanning ZEREBRO/USDT\n"
     ]
    },
    {
     "name": "stdout",
     "output_type": "stream",
     "text": [
      "▶ scanning 1000000BOB/USDT\n"
     ]
    },
    {
     "name": "stdout",
     "output_type": "stream",
     "text": [
      "  • fetched 864 bars → 2025-06-09 18:00:00 UTC\n"
     ]
    },
    {
     "name": "stdout",
     "output_type": "stream",
     "text": [
      "  • fetched 423 bars → 2025-06-09 18:00:00 UTC\n",
      "  • fetched 864 bars → 2025-06-09 18:00:00 UTC\n",
      "  • fetched 199 bars → 2025-06-09 16:00:00 UTC\n"
     ]
    },
    {
     "name": "stdout",
     "output_type": "stream",
     "text": [
      "  • fetched 199 bars → 2025-06-09 16:00:00 UTC\n",
      "  • fetched 27 bars → 2025-06-09 16:00:00 UTC\n"
     ]
    },
    {
     "name": "stdout",
     "output_type": "stream",
     "text": [
      "    ⚠️ ADX calculation failed for 1000000BOB/USDT: index 14 is out of bounds for axis 0 with size 14. Zero-filling it.\n"
     ]
    },
    {
     "name": "stdout",
     "output_type": "stream",
     "text": [
      "▶ scanning GALA/USDT\n",
      "▶ scanning INIT/USDT\n"
     ]
    },
    {
     "name": "stdout",
     "output_type": "stream",
     "text": [
      "  • fetched 864 bars → 2025-06-09 18:00:00 UTC\n"
     ]
    },
    {
     "name": "stdout",
     "output_type": "stream",
     "text": [
      "  • fetched 864 bars → 2025-06-09 18:00:00 UTC\n"
     ]
    },
    {
     "name": "stdout",
     "output_type": "stream",
     "text": [
      "  • fetched 199 bars → 2025-06-09 16:00:00 UTC\n"
     ]
    },
    {
     "name": "stdout",
     "output_type": "stream",
     "text": [
      "  • fetched 199 bars → 2025-06-09 16:00:00 UTC\n"
     ]
    },
    {
     "name": "stdout",
     "output_type": "stream",
     "text": [
      "\n",
      "📋 Active orders:\n"
     ]
    },
    {
     "data": {
      "text/html": [
       "<div>\n",
       "<style scoped>\n",
       "    .dataframe tbody tr th:only-of-type {\n",
       "        vertical-align: middle;\n",
       "    }\n",
       "\n",
       "    .dataframe tbody tr th {\n",
       "        vertical-align: top;\n",
       "    }\n",
       "\n",
       "    .dataframe thead th {\n",
       "        text-align: right;\n",
       "    }\n",
       "</style>\n",
       "<table border=\"1\" class=\"dataframe\">\n",
       "  <thead>\n",
       "    <tr style=\"text-align: right;\">\n",
       "      <th></th>\n",
       "      <th>symbol</th>\n",
       "      <th>side</th>\n",
       "      <th>entry_time</th>\n",
       "      <th>exit_time</th>\n",
       "      <th>entry_price</th>\n",
       "      <th>stop_loss</th>\n",
       "      <th>take_profit</th>\n",
       "      <th>R:R</th>\n",
       "    </tr>\n",
       "  </thead>\n",
       "  <tbody>\n",
       "    <tr>\n",
       "      <th>0</th>\n",
       "      <td>HUMA/USDT</td>\n",
       "      <td>short</td>\n",
       "      <td>2025-06-09 22:15:00+07:00</td>\n",
       "      <td>NaT</td>\n",
       "      <td>0.05025</td>\n",
       "      <td>0.052834</td>\n",
       "      <td>0.046374</td>\n",
       "      <td>1.5</td>\n",
       "    </tr>\n",
       "    <tr>\n",
       "      <th>1</th>\n",
       "      <td>INJ/USDT</td>\n",
       "      <td>long</td>\n",
       "      <td>2025-06-09 23:30:00+07:00</td>\n",
       "      <td>NaT</td>\n",
       "      <td>13.49500</td>\n",
       "      <td>13.212165</td>\n",
       "      <td>13.919253</td>\n",
       "      <td>1.5</td>\n",
       "    </tr>\n",
       "    <tr>\n",
       "      <th>2</th>\n",
       "      <td>TIA/USDT</td>\n",
       "      <td>long</td>\n",
       "      <td>2025-06-10 00:00:00+07:00</td>\n",
       "      <td>NaT</td>\n",
       "      <td>2.04040</td>\n",
       "      <td>2.000879</td>\n",
       "      <td>2.099681</td>\n",
       "      <td>1.5</td>\n",
       "    </tr>\n",
       "    <tr>\n",
       "      <th>3</th>\n",
       "      <td>ICX/USDT</td>\n",
       "      <td>long</td>\n",
       "      <td>2025-06-10 00:15:00+07:00</td>\n",
       "      <td>NaT</td>\n",
       "      <td>0.17300</td>\n",
       "      <td>0.167930</td>\n",
       "      <td>0.180605</td>\n",
       "      <td>1.5</td>\n",
       "    </tr>\n",
       "    <tr>\n",
       "      <th>4</th>\n",
       "      <td>CHESS/USDT</td>\n",
       "      <td>long</td>\n",
       "      <td>2025-06-09 17:30:00+07:00</td>\n",
       "      <td>NaT</td>\n",
       "      <td>0.07686</td>\n",
       "      <td>0.074652</td>\n",
       "      <td>0.080172</td>\n",
       "      <td>1.5</td>\n",
       "    </tr>\n",
       "  </tbody>\n",
       "</table>\n",
       "</div>"
      ],
      "text/plain": [
       "       symbol   side                entry_time exit_time  entry_price  \\\n",
       "0   HUMA/USDT  short 2025-06-09 22:15:00+07:00       NaT      0.05025   \n",
       "1    INJ/USDT   long 2025-06-09 23:30:00+07:00       NaT     13.49500   \n",
       "2    TIA/USDT   long 2025-06-10 00:00:00+07:00       NaT      2.04040   \n",
       "3    ICX/USDT   long 2025-06-10 00:15:00+07:00       NaT      0.17300   \n",
       "4  CHESS/USDT   long 2025-06-09 17:30:00+07:00       NaT      0.07686   \n",
       "\n",
       "   stop_loss  take_profit  R:R  \n",
       "0   0.052834     0.046374  1.5  \n",
       "1  13.212165    13.919253  1.5  \n",
       "2   2.000879     2.099681  1.5  \n",
       "3   0.167930     0.180605  1.5  \n",
       "4   0.074652     0.080172  1.5  "
      ]
     },
     "metadata": {},
     "output_type": "display_data"
    }
   ],
   "source": [
    "# ─── Block 3: scan each symbol in parallel and collect only still-open trades ───────────\n",
    "import time\n",
    "import pandas as pd\n",
    "from concurrent.futures import ThreadPoolExecutor, as_completed\n",
    "\n",
    "# how long to sleep to respect binance.rateLimit\n",
    "rate_limit_sec = binance.rateLimit / 1000  \n",
    "\n",
    "def _process_symbol(sym):\n",
    "    \"\"\"\n",
    "    Sleep once to throttle against rateLimit,\n",
    "    then fetch/backtest `sym` and return only still-open trades (or None).\n",
    "    \"\"\"\n",
    "    # throttle this thread’s first request\n",
    "    time.sleep(rate_limit_sec)\n",
    "    try:\n",
    "        df_trades = scan_symbol(sym, start_ms, end_ms)\n",
    "        # nothing or no exit_time column?\n",
    "        if df_trades is None or df_trades.empty or 'exit_time' not in df_trades:\n",
    "            return None\n",
    "\n",
    "        # select only the rows where exit_time is NaT → still open\n",
    "        still_open = df_trades[df_trades['exit_time'].isna()].copy()\n",
    "        if still_open.empty:\n",
    "            return None\n",
    "\n",
    "        still_open['symbol'] = sym\n",
    "        return still_open\n",
    "\n",
    "    except Exception as e:\n",
    "        print(f\"⚠️ Error processing {sym}: {e}\")\n",
    "        return None\n",
    "\n",
    "open_trades = []\n",
    "max_workers = 5  # feel free to tune down if you still hit bans\n",
    "\n",
    "with ThreadPoolExecutor(max_workers=max_workers) as executor:\n",
    "    # kick off one future per symbol\n",
    "    futures = {executor.submit(_process_symbol, sym): sym for sym in symbols}\n",
    "\n",
    "    for fut in as_completed(futures):\n",
    "        res = fut.result()\n",
    "        if res is not None:\n",
    "            open_trades.append(res)\n",
    "\n",
    "# ─── display your still-open trades ───────────────────────────────────────────────\n",
    "if open_trades:\n",
    "    print(\"\\n📋 Active orders:\")\n",
    "    display(pd.concat(open_trades, ignore_index=True))\n",
    "else:\n",
    "    print(\"\\n✅ No active trades at the moment.\")\n"
   ]
  }
 ],
 "metadata": {
  "kernelspec": {
   "display_name": "Python 3",
   "language": "python",
   "name": "python3"
  },
  "language_info": {
   "codemirror_mode": {
    "name": "ipython",
    "version": 3
   },
   "file_extension": ".py",
   "mimetype": "text/x-python",
   "name": "python",
   "nbconvert_exporter": "python",
   "pygments_lexer": "ipython3",
   "version": "3.10.12"
  },
  "papermill": {
   "default_parameters": {},
   "duration": 305.38984,
   "end_time": "2025-06-09T18:04:58.474363",
   "environment_variables": {},
   "exception": null,
   "input_path": "Holy_Grail.ipynb",
   "output_path": "output.ipynb",
   "parameters": {},
   "start_time": "2025-06-09T17:59:53.084523",
   "version": "2.6.0"
  }
 },
 "nbformat": 4,
 "nbformat_minor": 5
}