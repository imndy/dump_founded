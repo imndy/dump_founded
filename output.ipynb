{
 "cells": [
  {
   "cell_type": "code",
   "execution_count": 1,
   "id": "c26c4ba0",
   "metadata": {
    "execution": {
     "iopub.execute_input": "2025-06-10T10:55:47.011274Z",
     "iopub.status.busy": "2025-06-10T10:55:47.010962Z",
     "iopub.status.idle": "2025-06-10T10:55:48.048609Z",
     "shell.execute_reply": "2025-06-10T10:55:48.047807Z"
    },
    "papermill": {
     "duration": 1.043168,
     "end_time": "2025-06-10T10:55:48.050189",
     "exception": false,
     "start_time": "2025-06-10T10:55:47.007021",
     "status": "completed"
    },
    "tags": []
   },
   "outputs": [],
   "source": [
    "# ─── Block 1: SETUP + TOP-100 USDT-M FUTURES (last 21 days) ────────────────\n",
    "from datetime import datetime, timezone, timedelta\n",
    "import ccxt, pandas as pd, time\n",
    "from bisect import bisect_right\n",
    "\n",
    "# 0) FIXED WINDOW: days ago → now\n",
    "spans    = 9\n",
    "now_utc  = datetime.now(timezone.utc)\n",
    "start    = now_utc - timedelta(days=spans)\n",
    "end      = now_utc\n",
    "\n",
    "# print(f\"→ Window: {start.isoformat()} → {end.isoformat()}\")\n",
    "\n",
    "# to ms, bump exact-midnight end forward by 1 ms\n",
    "start_ms = int(start.timestamp() * 1000)\n",
    "end_ms   = int(  end.timestamp() * 1000)\n",
    "if end_ms % 86_400_000 == 0:\n",
    "    end_ms += 86_400_000 - 1\n",
    "\n",
    "# 1) CCXT FUTURES CLIENT\n",
    "binance = ccxt.binance({\n",
    "    'options':        {'defaultType': 'future'},\n",
    "    'enableRateLimit': True,\n",
    "})\n",
    "\n",
    "\n",
    "# 2) TRY to GET 24 h STATS\n",
    "try:\n",
    "    n=100\n",
    "    raw24 = binance.fapiPublicGetTicker24hr()    # GET /fapi/v1/ticker/24hr\n",
    "    usdt  = [t for t in raw24 if t['symbol'].endswith('USDT')]\n",
    "    topn  = sorted(usdt, key=lambda x: float(x['quoteVolume']), reverse=True)[:n]\n",
    "    symbols = [ t['symbol'][:-4] + '/USDT' for t in topn ]\n",
    "    # print(f\"Top {len(symbols)} USDT-M futures by 24 h volume:\")\n",
    "    # print(symbols)\n",
    "except Exception as e:\n",
    "    # print(f\"⚠️  Cannot fetch futures tickers ({e}), falling back to symbols.txt\")\n",
    "    # Load a pre-prepared file of one-per-line SYMBOL/USDT\n",
    "    with open('symbols.txt') as f:\n",
    "        symbols = [l.strip() for l in f if l.strip()]\n",
    "\n"
   ]
  },
  {
   "cell_type": "code",
   "execution_count": 2,
   "id": "53e745d8",
   "metadata": {
    "execution": {
     "iopub.execute_input": "2025-06-10T10:55:48.057608Z",
     "iopub.status.busy": "2025-06-10T10:55:48.057266Z",
     "iopub.status.idle": "2025-06-10T10:55:48.087337Z",
     "shell.execute_reply": "2025-06-10T10:55:48.086625Z"
    },
    "papermill": {
     "duration": 0.0339,
     "end_time": "2025-06-10T10:55:48.088533",
     "exception": false,
     "start_time": "2025-06-10T10:55:48.054633",
     "status": "completed"
    },
    "tags": []
   },
   "outputs": [],
   "source": [
    "# ─── Block 2: fetch_ohlcv_until() + scan_symbol() ───────────────────────────\n",
    "import numpy as np\n",
    "from ta.trend      import MACD, ADXIndicator, EMAIndicator\n",
    "from ta.volatility import AverageTrueRange\n",
    "from ta.momentum   import RSIIndicator\n",
    "import ta  # for MFI\n",
    "\n",
    "def fetch_ohlcv_until(symbol, timeframe, start_ms, end_ms, limit=1500):\n",
    "    all_bars, cursor = [], start_ms\n",
    "    delay = binance.rateLimit/1000\n",
    "    while True:\n",
    "        batch = binance.fetch_ohlcv(symbol, timeframe, since=cursor, limit=limit)\n",
    "        if not batch: break\n",
    "        last = batch[-1][0]\n",
    "        all_bars += batch\n",
    "        # print(f\"  • fetched {len(batch)} bars → {pd.to_datetime(last,unit='ms')} UTC\")\n",
    "        if last >= end_ms:\n",
    "            all_bars = [b for b in all_bars if b[0] <= end_ms]\n",
    "            # print(\"    ▶ reach end_ms, stopping.\")\n",
    "            break\n",
    "        cursor = last+1\n",
    "        time.sleep(delay)\n",
    "        if len(batch)<limit: break\n",
    "\n",
    "    df = pd.DataFrame(all_bars, columns=['ts','open','high','low','close','volume'])\n",
    "    df['timestamp'] = pd.to_datetime(df['ts'],unit='ms')\n",
    "    df.set_index('timestamp',inplace=True)\n",
    "    df.drop('ts',axis=1,inplace=True)\n",
    "    df = df[(df.index>=pd.to_datetime(start_ms,unit='ms'))\n",
    "          & (df.index<=pd.to_datetime(end_ms,  unit='ms'))]\n",
    "    df.index = df.index.tz_localize('UTC').tz_convert('Asia/Bangkok')\n",
    "    return df\n",
    "\n",
    "def safe_round(value, ndigits=0):\n",
    "    if isinstance(value, (int, float)):\n",
    "        return round(value, ndigits)\n",
    "    return value  # Leave it unchanged if not a number\n",
    "\n",
    "def scan_symbol(symbol, start_ms, end_ms):\n",
    "    print(f\"▶ scanning {symbol}\")\n",
    "    # 1) fetch 15m + warmup 4h\n",
    "    df15 = fetch_ohlcv_until(symbol, '15m', start_ms, end_ms)\n",
    "    MS4H = 4*60*60*1000\n",
    "    warm = start_ms - (14*10 + 5)*MS4H\n",
    "    raw4 = fetch_ohlcv_until(symbol, '4h', warm, end_ms)\n",
    "    # slice raw4 → exact window\n",
    "    sdt = pd.to_datetime(start_ms,unit='ms',utc=True).tz_convert('Asia/Bangkok')\n",
    "    edt = pd.to_datetime(end_ms,  unit='ms',utc=True).tz_convert('Asia/Bangkok')\n",
    "    df4  = raw4.loc[sdt:edt]\n",
    "\n",
    "    # 2) merge 4h → 15m\n",
    "    # ─── 4h → 15m ATR & ADX (guard against too-short history + catch errors) ──────────────────\n",
    "    WINDOW = 14\n",
    "\n",
    "    if len(raw4) < WINDOW + 1:\n",
    "        # Not enough 4h bars to compute a 14-period indicator\n",
    "        atr4 = pd.Series(0.0, index=df15.index)\n",
    "        adx4 = pd.Series(0.0, index=df15.index)\n",
    "    else:\n",
    "        # ATR(14)\n",
    "        atr4 = AverageTrueRange(\n",
    "            high= raw4['high'],\n",
    "            low=  raw4['low'],\n",
    "            close=raw4['close'],\n",
    "            window=WINDOW\n",
    "        ).average_true_range()\n",
    "\n",
    "        # ADX(14) with exception handling\n",
    "        try:\n",
    "            adx_series = ADXIndicator(\n",
    "                high= raw4['high'],\n",
    "                low=  raw4['low'],\n",
    "                close=raw4['close'],\n",
    "                window=WINDOW,\n",
    "                fillna=False\n",
    "            ).adx()\n",
    "            adx4 = adx_series.fillna(0)\n",
    "        except Exception as e:\n",
    "            # print(f\"    ⚠️ ADX calculation failed for {symbol}: {e}. Zero-filling it.\")\n",
    "            adx4 = pd.Series(0.0, index=raw4.index)\n",
    "\n",
    "    # forward-fill onto the 15m frame\n",
    "    df15['ATR_4h'] = atr4.reindex(df15.index, method='ffill')\n",
    "    df15['ADX_4h'] = adx4.reindex(df15.index, method='ffill')\n",
    "\n",
    "    # 3) 15m indicators\n",
    "    macd = MACD(df15['close'])\n",
    "    df15['MACD_line']   = macd.macd()\n",
    "    df15['MACD_signal'] = macd.macd_signal()\n",
    "    df15['MACD_hist']   = macd.macd_diff()\n",
    "    df15['MFI']   = ta.volume.money_flow_index(df15['high'],df15['low'],df15['close'],df15['volume'],14)\n",
    "    df15['EMA50'] = EMAIndicator(df15['close'],50).ema_indicator()\n",
    "    df15['EMA100']= EMAIndicator(df15['close'],100).ema_indicator()\n",
    "    df15['RSI']   = RSIIndicator(df15['close'],14).rsi()\n",
    "    df15['ATR']   = AverageTrueRange(df15['high'],df15['low'],df15['close'],14).average_true_range()\n",
    "    df15['ATR30']= df15['ATR'].rolling(30).mean()\n",
    "    df15['ADX']  = ADXIndicator(df15['high'],df15['low'],df15['close'],14).adx()\n",
    "    df15.dropna(inplace=True)\n",
    "\n",
    "    # 4) pivots\n",
    "    pw = 14\n",
    "\n",
    "    # 1) Trailing pivot highs: current high is the max of itself + previous pw bars\n",
    "    df15['is_pivot_high'] = (\n",
    "        df15['high']\n",
    "        .rolling(window=pw+1)                # trailing window of size pw+1\n",
    "        .apply(lambda x: np.argmax(x) == pw, raw=True)\n",
    "    )\n",
    "\n",
    "    # 2) Trailing pivot lows: current low is the min of itself + previous pw bars\n",
    "    df15['is_pivot_low']  = (\n",
    "        df15['low']\n",
    "        .rolling(window=pw+1)\n",
    "        .apply(lambda x: np.argmin(x) == pw, raw=True)\n",
    "    )\n",
    "\n",
    "    # 3) Extract the times & values for your R:R logic\n",
    "    highs = df15.loc[df15['is_pivot_high'] == 1, 'high']\n",
    "    lows  = df15.loc[df15['is_pivot_low']  == 1, 'low']\n",
    "\n",
    "    HT, HV = highs.index.tolist(), highs.values.tolist()\n",
    "    LT, LV = lows.index.tolist(),  lows.values.tolist()\n",
    "\n",
    "    # 5) backtest exactly as before\n",
    "    results, active = [], False\n",
    "    lev, cap, base_rr, rr_min, th = 10, 25, 1.5, 0.15, 25\n",
    "    risk_th = 0.75\n",
    "    fee = 0.0005\n",
    "    for i in range(1,len(df15)):\n",
    "        r, p = df15.iloc[i], df15.iloc[i-1]\n",
    "        now  = r.name\n",
    "\n",
    "        if not active:\n",
    "            # trend filter\n",
    "            if r['ADX_4h']<th: continue\n",
    "            else:\n",
    "                # LONG\n",
    "                if ( r['high']>=r['EMA50'] and r['EMA50']>r['EMA100']\n",
    "                and p['MFI']<=55        and r['MFI']>=55\n",
    "                and r['MACD_hist']>0):\n",
    "                    entry, entry_t, side = r['close'], now, 'long'\n",
    "\n",
    "                    risk = r['ATR_4h']*risk_th\n",
    "                    stop = entry-risk\n",
    "                    idx  = bisect_right(HT,entry_t)\n",
    "                    cand = HV[idx] if idx<len(HV) else entry+base_rr*risk\n",
    "                    tp   = cand if cand>entry else entry+base_rr*risk\n",
    "                    rr   = (tp-entry)/risk\n",
    "                \n",
    "                    # ❌ only go active if R:R > RR_MIN\n",
    "                    if rr <= rr_min:\n",
    "                        continue\n",
    "\n",
    "                    active = True\n",
    "\n",
    "                # SHORT\n",
    "                elif ( r['low']<=r['EMA50'] and r['EMA50']<r['EMA100']\n",
    "                    and p['MFI']>=45 and r['MFI']<=45\n",
    "                    and r['MACD_hist']<0):\n",
    "                    entry, entry_t, side = r['close'], now, 'short'\n",
    "\n",
    "                    risk = r['ATR_4h']*risk_th\n",
    "                    stop = entry+risk\n",
    "                    idx  = bisect_right(LT,entry_t)\n",
    "                    cand = LV[idx] if idx<len(LV) else entry-risk*base_rr\n",
    "                    tp   = cand if cand<entry else entry-risk*base_rr\n",
    "                    rr   = abs((tp-entry)/risk)\n",
    "\n",
    "                    # ❌ only go active if R:R > 1\n",
    "                    if rr <= rr_min:\n",
    "                        continue\n",
    "                    \n",
    "                    active = True\n",
    "\n",
    "                else:\n",
    "                    continue\n",
    "\n",
    "        else:\n",
    "            lo, hi = r['low'], r['high']\n",
    "            if side=='long':\n",
    "                if lo<=stop: result,exit_price='loss',stop\n",
    "                elif hi>=tp:   result,exit_price='win', tp\n",
    "                else:          continue\n",
    "            else:\n",
    "                if hi>=stop:   result,exit_price='loss',stop\n",
    "                elif lo<=tp:   result,exit_price='win', tp\n",
    "                else:          continue\n",
    "\n",
    "            # pnl + fees\n",
    "            # pnl_pct = ((exit_price-entry)/entry)*(1 if side=='long' else -1)*lev*100\n",
    "            # pnl_usd = cap*pnl_pct/100\n",
    "            # not_usd = cap*lev\n",
    "            # qty     = safe_round(not_usd/entry,4)\n",
    "            # fees    = qty*(entry+exit_price)*0.5*fee\n",
    "            # net     = pnl_usd - fees\n",
    "\n",
    "            results.append({\n",
    "                'symbol':      symbol,\n",
    "                'side':        side,\n",
    "                'entry_time':  entry_t,\n",
    "                'exit_time':   now,\n",
    "                'entry_price': entry,\n",
    "                'stop_loss':   stop,\n",
    "                'take_profit': tp,\n",
    "                # 'exit_price':  exit_price,\n",
    "                # 'volume_$':    safe_round(not_usd,2),\n",
    "                # 'fees_$':      safe_round(fees,4),\n",
    "                # 'pnl_%':       safe_round(pnl_pct,2),\n",
    "                # 'pnl_$':       safe_round(pnl_usd,2),\n",
    "                # 'net_pnl_$':   safe_round(net,2),\n",
    "                'R:R':         safe_round(rr,2)\n",
    "            })\n",
    "            active=False\n",
    "        \n",
    "        if active: \n",
    "            # pnl_pct = None\n",
    "            # pnl_usd = None\n",
    "            # not_usd = cap*lev\n",
    "            # qty     = safe_round(not_usd/entry,4)\n",
    "            # fees    = None\n",
    "            # net     = None\n",
    "        \n",
    "            results.append({\n",
    "                'symbol':      symbol,\n",
    "                'side':        side,\n",
    "                'entry_time':  entry_t,\n",
    "                'exit_time':   None,\n",
    "                'entry_price': entry,\n",
    "                'stop_loss':   stop,\n",
    "                'take_profit': tp,\n",
    "                # 'exit_price':  None,\n",
    "                # 'volume_$':    safe_round(not_usd,2),\n",
    "                # 'fees_$':      safe_round(fees,4),\n",
    "                # 'pnl_%':       safe_round(pnl_pct,2),\n",
    "                # 'pnl_$':       safe_round(pnl_usd,2),\n",
    "                # 'net_pnl_$':   safe_round(net,2),\n",
    "                'R:R':         safe_round(rr,2)\n",
    "            })\n",
    "    \n",
    "        \n",
    "    # Build results DataFrame\n",
    "    result_df = pd.DataFrame(results)\n",
    "\n",
    "    # Keep only the final trade (or return an empty DataFrame if there were none)\n",
    "    result_df = result_df.tail(1).reset_index(drop=True)\n",
    "\n",
    "    return result_df\n"
   ]
  },
  {
   "cell_type": "code",
   "execution_count": 3,
   "id": "7d9346d3",
   "metadata": {
    "execution": {
     "iopub.execute_input": "2025-06-10T10:55:48.092935Z",
     "iopub.status.busy": "2025-06-10T10:55:48.092695Z",
     "iopub.status.idle": "2025-06-10T10:56:15.253372Z",
     "shell.execute_reply": "2025-06-10T10:56:15.252669Z"
    },
    "papermill": {
     "duration": 27.164403,
     "end_time": "2025-06-10T10:56:15.254476",
     "exception": false,
     "start_time": "2025-06-10T10:55:48.090073",
     "status": "completed"
    },
    "tags": []
   },
   "outputs": [
    {
     "name": "stdout",
     "output_type": "stream",
     "text": [
      "▶ scanning BTC/USDT\n",
      "▶ scanning ETH/USDT\n",
      "▶ scanning SOL/USDT\n",
      "▶ scanning ALPACA/USDT\n",
      "▶ scanning 1000PEPE/USDT\n"
     ]
    },
    {
     "name": "stdout",
     "output_type": "stream",
     "text": [
      "▶ scanning XRP/USDT\n",
      "▶ scanning DOGE/USDT\n"
     ]
    },
    {
     "name": "stdout",
     "output_type": "stream",
     "text": [
      "▶ scanning AXL/USDT\n",
      "▶ scanning RVN/USDT\n"
     ]
    },
    {
     "name": "stdout",
     "output_type": "stream",
     "text": [
      "▶ scanning ANIME/USDT\n",
      "▶ scanning FARTCOIN/USDT\n",
      "▶ scanning SUI/USDT\n"
     ]
    },
    {
     "name": "stdout",
     "output_type": "stream",
     "text": [
      "▶ scanning BID/USDT\n",
      "▶ scanning WIF/USDT\n"
     ]
    },
    {
     "name": "stdout",
     "output_type": "stream",
     "text": [
      "▶ scanning BNX/USDT\n",
      "▶ scanning AAVE/USDT\n",
      "▶ scanning UMA/USDT\n"
     ]
    },
    {
     "name": "stdout",
     "output_type": "stream",
     "text": [
      "▶ scanning ADA/USDT\n",
      "▶ scanning HYPE/USDT\n"
     ]
    },
    {
     "name": "stdout",
     "output_type": "stream",
     "text": [
      "▶ scanning ENA/USDT\n",
      "▶ scanning UNI/USDT\n"
     ]
    },
    {
     "name": "stdout",
     "output_type": "stream",
     "text": [
      "▶ scanning BNB/USDT\n",
      "▶ scanning AVAX/USDT\n",
      "▶ scanning TRB/USDT\n"
     ]
    },
    {
     "name": "stdout",
     "output_type": "stream",
     "text": [
      "▶ scanning TRUMP/USDT\n",
      "▶ scanning LPT/USDT\n"
     ]
    },
    {
     "name": "stdout",
     "output_type": "stream",
     "text": [
      "▶ scanning LINK/USDT\n",
      "▶ scanning VIRTUAL/USDT\n"
     ]
    },
    {
     "name": "stdout",
     "output_type": "stream",
     "text": [
      "▶ scanning KAIA/USDT\n",
      "▶ scanning HUMA/USDT\n",
      "▶ scanning MASK/USDT\n"
     ]
    },
    {
     "name": "stdout",
     "output_type": "stream",
     "text": [
      "▶ scanning MOODENG/USDT\n",
      "▶ scanning NEIRO/USDT\n"
     ]
    },
    {
     "name": "stdout",
     "output_type": "stream",
     "text": [
      "▶ scanning LA/USDT\n",
      "▶ scanning TAO/USDT\n"
     ]
    },
    {
     "name": "stdout",
     "output_type": "stream",
     "text": [
      "▶ scanning LTC/USDT\n",
      "▶ scanning WLD/USDT\n",
      "▶ scanning SKATE/USDT\n"
     ]
    },
    {
     "name": "stdout",
     "output_type": "stream",
     "text": [
      "▶ scanning PNUT/USDT\n",
      "▶ scanning COMP/USDT\n"
     ]
    },
    {
     "name": "stdout",
     "output_type": "stream",
     "text": [
      "▶ scanning COOKIE/USDT\n",
      "▶ scanning DOT/USDT\n"
     ]
    },
    {
     "name": "stdout",
     "output_type": "stream",
     "text": [
      "▶ scanning SPX/USDT\n",
      "▶ scanning OP/USDT\n"
     ]
    },
    {
     "name": "stdout",
     "output_type": "stream",
     "text": [
      "▶ scanning ETHFI/USDT\n"
     ]
    },
    {
     "name": "stdout",
     "output_type": "stream",
     "text": [
      "▶ scanning BCH/USDT\n",
      "▶ scanning SOPH/USDT\n"
     ]
    },
    {
     "name": "stdout",
     "output_type": "stream",
     "text": [
      "▶ scanning ICP/USDT\n",
      "▶ scanning CRV/USDT\n",
      "▶ scanning TRX/USDT\n"
     ]
    },
    {
     "name": "stdout",
     "output_type": "stream",
     "text": [
      "▶ scanning 1000SHIB/USDT\n",
      "▶ scanning VIDT/USDT\n"
     ]
    },
    {
     "name": "stdout",
     "output_type": "stream",
     "text": [
      "▶ scanning NXPC/USDT\n"
     ]
    },
    {
     "name": "stdout",
     "output_type": "stream",
     "text": [
      "▶ scanning INJ/USDT\n",
      "▶ scanning AGIX/USDT\n",
      "▶ scanning HMSTR/USDT\n"
     ]
    },
    {
     "name": "stdout",
     "output_type": "stream",
     "text": [
      "▶ scanning FET/USDT\n",
      "▶ scanning TIA/USDT\n"
     ]
    },
    {
     "name": "stdout",
     "output_type": "stream",
     "text": [
      "▶ scanning KAITO/USDT\n",
      "▶ scanning WCT/USDT\n",
      "▶ scanning FIL/USDT\n"
     ]
    },
    {
     "name": "stdout",
     "output_type": "stream",
     "text": [
      "▶ scanning NEAR/USDT\n",
      "▶ scanning DEXE/USDT\n"
     ]
    },
    {
     "name": "stdout",
     "output_type": "stream",
     "text": [
      "▶ scanning TON/USDT\n",
      "▶ scanning ARB/USDT\n",
      "▶ scanning MKR/USDT\n"
     ]
    },
    {
     "name": "stdout",
     "output_type": "stream",
     "text": [
      "▶ scanning EIGEN/USDT\n",
      "▶ scanning ONDO/USDT\n"
     ]
    },
    {
     "name": "stdout",
     "output_type": "stream",
     "text": [
      "▶ scanning LINA/USDT\n",
      "▶ scanning 1000000BOB/USDT\n"
     ]
    },
    {
     "name": "stdout",
     "output_type": "stream",
     "text": [
      "▶ scanning 1000BONK/USDT\n",
      "▶ scanning VVV/USDT\n",
      "▶ scanning POPCAT/USDT\n"
     ]
    },
    {
     "name": "stdout",
     "output_type": "stream",
     "text": [
      "▶ scanning FTM/USDT\n",
      "▶ scanning AI16Z/USDT\n"
     ]
    },
    {
     "name": "stdout",
     "output_type": "stream",
     "text": [
      "▶ scanning ETC/USDT\n",
      "▶ scanning INIT/USDT\n"
     ]
    },
    {
     "name": "stdout",
     "output_type": "stream",
     "text": [
      "▶ scanning LDO/USDT\n",
      "▶ scanning WAVES/USDT\n",
      "▶ scanning PENGU/USDT\n"
     ]
    },
    {
     "name": "stdout",
     "output_type": "stream",
     "text": [
      "▶ scanning AIXBT/USDT\n",
      "▶ scanning AMB/USDT\n"
     ]
    },
    {
     "name": "stdout",
     "output_type": "stream",
     "text": [
      "▶ scanning OCEAN/USDT\n",
      "▶ scanning XLM/USDT\n",
      "▶ scanning HBAR/USDT\n"
     ]
    },
    {
     "name": "stdout",
     "output_type": "stream",
     "text": [
      "▶ scanning STRAX/USDT\n",
      "▶ scanning SYRUP/USDT\n"
     ]
    },
    {
     "name": "stdout",
     "output_type": "stream",
     "text": [
      "▶ scanning ICX/USDT\n",
      "▶ scanning APT/USDT\n",
      "▶ scanning B/USDT\n"
     ]
    },
    {
     "name": "stdout",
     "output_type": "stream",
     "text": [
      "▶ scanning ORDI/USDT\n",
      "▶ scanning REN/USDT\n"
     ]
    },
    {
     "name": "stdout",
     "output_type": "stream",
     "text": [
      "▶ scanning PEOPLE/USDT\n",
      "▶ scanning UNFI/USDT\n",
      "▶ scanning 1000FLOKI/USDT\n"
     ]
    },
    {
     "name": "stdout",
     "output_type": "stream",
     "text": [
      "▶ scanning 1000000MOG/USDT\n",
      "▶ scanning JUP/USDT\n"
     ]
    },
    {
     "name": "stdout",
     "output_type": "stream",
     "text": [
      "▶ scanning APE/USDT\n",
      "▶ scanning PENDLE/USDT\n"
     ]
    },
    {
     "name": "stdout",
     "output_type": "stream",
     "text": [
      "▶ scanning DGB/USDT\n"
     ]
    },
    {
     "name": "stdout",
     "output_type": "stream",
     "text": [
      "→ Window: 2025-06-01T10:55:47.900539+00:00 → 2025-06-10T10:55:47.900539+00:00\n"
     ]
    }
   ],
   "source": [
    "# ─── Block 3: scan each symbol in parallel and collect only still-open trades ──\n",
    "import time\n",
    "import pandas as pd\n",
    "from concurrent.futures import ThreadPoolExecutor, as_completed\n",
    "from datetime import datetime\n",
    "\n",
    "# rate_limit_sec = binance.rateLimit / 5000  \n",
    "\n",
    "def _process_symbol(sym):\n",
    "    # time.sleep(rate_limit_sec)\n",
    "    try:\n",
    "        df_trades = scan_symbol(sym, start_ms, end_ms)\n",
    "        if df_trades is None or df_trades.empty or 'exit_time' not in df_trades:\n",
    "            return None\n",
    "        still_open = df_trades[df_trades['exit_time'].isna()].copy()\n",
    "        if still_open.empty:\n",
    "            return None\n",
    "        still_open['symbol'] = sym\n",
    "        return still_open\n",
    "    except Exception as e:\n",
    "        print(f\"⚠️ Error processing {sym}: {e}\")\n",
    "        return None\n",
    "\n",
    "open_trades = []\n",
    "max_workers = 5\n",
    "with ThreadPoolExecutor(max_workers=max_workers) as executor:\n",
    "    futures = {executor.submit(_process_symbol, sym): sym for sym in symbols}\n",
    "    for fut in as_completed(futures):\n",
    "        res = fut.result()\n",
    "        if res is not None:\n",
    "            open_trades.append(res)\n",
    "\n",
    "print(f\"→ Window: {start.isoformat()} → {end.isoformat()}\")\n",
    "\n"
   ]
  },
  {
   "cell_type": "code",
   "execution_count": 4,
   "id": "fb789a2b",
   "metadata": {
    "execution": {
     "iopub.execute_input": "2025-06-10T10:56:15.261996Z",
     "iopub.status.busy": "2025-06-10T10:56:15.261765Z",
     "iopub.status.idle": "2025-06-10T10:56:15.280248Z",
     "shell.execute_reply": "2025-06-10T10:56:15.279556Z"
    },
    "papermill": {
     "duration": 0.023257,
     "end_time": "2025-06-10T10:56:15.281310",
     "exception": false,
     "start_time": "2025-06-10T10:56:15.258053",
     "status": "completed"
    },
    "tags": []
   },
   "outputs": [
    {
     "name": "stdout",
     "output_type": "stream",
     "text": [
      "\n",
      "📋 Active orders:\n"
     ]
    },
    {
     "data": {
      "text/html": [
       "<div>\n",
       "<style scoped>\n",
       "    .dataframe tbody tr th:only-of-type {\n",
       "        vertical-align: middle;\n",
       "    }\n",
       "\n",
       "    .dataframe tbody tr th {\n",
       "        vertical-align: top;\n",
       "    }\n",
       "\n",
       "    .dataframe thead th {\n",
       "        text-align: right;\n",
       "    }\n",
       "</style>\n",
       "<table border=\"1\" class=\"dataframe\">\n",
       "  <thead>\n",
       "    <tr style=\"text-align: right;\">\n",
       "      <th></th>\n",
       "      <th>symbol</th>\n",
       "      <th>side</th>\n",
       "      <th>entry_time</th>\n",
       "      <th>entry_price</th>\n",
       "      <th>stop_loss</th>\n",
       "      <th>take_profit</th>\n",
       "      <th>R:R</th>\n",
       "    </tr>\n",
       "  </thead>\n",
       "  <tbody>\n",
       "    <tr>\n",
       "      <th>0</th>\n",
       "      <td>BTC/USDT</td>\n",
       "      <td>long</td>\n",
       "      <td>2025-06-10 16:30</td>\n",
       "      <td>109322.6000</td>\n",
       "      <td>108587.1389</td>\n",
       "      <td>110425.7917</td>\n",
       "      <td>1.5</td>\n",
       "    </tr>\n",
       "    <tr>\n",
       "      <th>1</th>\n",
       "      <td>MASK/USDT</td>\n",
       "      <td>short</td>\n",
       "      <td>2025-06-07 22:30</td>\n",
       "      <td>1.8144</td>\n",
       "      <td>2.0276</td>\n",
       "      <td>1.4946</td>\n",
       "      <td>1.5</td>\n",
       "    </tr>\n",
       "  </tbody>\n",
       "</table>\n",
       "</div>"
      ],
      "text/plain": [
       "      symbol   side        entry_time  entry_price    stop_loss  take_profit  \\\n",
       "0   BTC/USDT   long  2025-06-10 16:30  109322.6000  108587.1389  110425.7917   \n",
       "1  MASK/USDT  short  2025-06-07 22:30       1.8144       2.0276       1.4946   \n",
       "\n",
       "   R:R  \n",
       "0  1.5  \n",
       "1  1.5  "
      ]
     },
     "metadata": {},
     "output_type": "display_data"
    }
   ],
   "source": [
    "from datetime import datetime\n",
    "\n",
    "timestamp = datetime.now().strftime(\"%Y-%m-%d %H:%M:%S\")\n",
    "\n",
    "if open_trades:\n",
    "    df_active = pd.concat(open_trades, ignore_index=True)\n",
    "\n",
    "    # Clean up DataFrame\n",
    "    df_active = df_active.drop(columns=[\"exit_time\"], errors=\"ignore\")\n",
    "    df_active[\"entry_time\"] = pd.to_datetime(df_active[\"entry_time\"]).dt.strftime(\"%Y-%m-%d %H:%M\")\n",
    "    \n",
    "    # Round float columns for readability\n",
    "    float_cols = df_active.select_dtypes(include='number').columns\n",
    "    df_active[float_cols] = df_active[float_cols].round(4)\n",
    "\n",
    "    # Prepare formatted string\n",
    "    formatted = df_active.tail(10).to_string(index=False)\n",
    "\n",
    "    with open(\"summary.txt\", \"w\") as f:\n",
    "        f.write(f\"{timestamp}\\n\")\n",
    "        f.write(formatted + \"\\n\")\n",
    "\n",
    "    # Display in notebook\n",
    "    print(\"\\n📋 Active orders:\")\n",
    "    display(df_active)\n",
    "\n",
    "else:\n",
    "    with open(\"summary.txt\", \"w\") as f:\n",
    "        f.write(f\"{timestamp}\\n\")\n",
    "        f.write(\"No active trades at the moment.\\n\")\n"
   ]
  }
 ],
 "metadata": {
  "kernelspec": {
   "display_name": "Python 3",
   "language": "python",
   "name": "python3"
  },
  "language_info": {
   "codemirror_mode": {
    "name": "ipython",
    "version": 3
   },
   "file_extension": ".py",
   "mimetype": "text/x-python",
   "name": "python",
   "nbconvert_exporter": "python",
   "pygments_lexer": "ipython3",
   "version": "3.10.12"
  },
  "papermill": {
   "default_parameters": {},
   "duration": 29.723492,
   "end_time": "2025-06-10T10:56:15.802103",
   "environment_variables": {},
   "exception": null,
   "input_path": "Holy_Grail.ipynb",
   "output_path": "output.ipynb",
   "parameters": {},
   "start_time": "2025-06-10T10:55:46.078611",
   "version": "2.6.0"
  }
 },
 "nbformat": 4,
 "nbformat_minor": 5
}